{
 "cells": [
  {
   "metadata": {},
   "cell_type": "markdown",
   "source": [
    "# Data Preprocessing & Exploratory Analysis Notebook\n",
    "This notebook implements preprocessing and exploratory analysis for news dataset.\n",
    "1. Initial Cleaning\n",
    "2. Duplicate Detection & Removal\n",
    "3. Exploratory Data Analysis (EDA)\n",
    "4. Linguistic Preprocessing (Lemmatization)\n",
    "5. Train/Validation/Test Split"
   ],
   "id": "504d8ece220d9cf8"
  },
  {
   "cell_type": "code",
   "id": "initial_id",
   "metadata": {
    "id": "initial_id",
    "executionInfo": {
     "status": "ok",
     "timestamp": 1747326712292,
     "user_tz": -180,
     "elapsed": 1324,
     "user": {
      "displayName": "fave gacex",
      "userId": "09337749513097796277"
     }
    },
    "ExecuteTime": {
     "end_time": "2025-06-10T08:11:21.013149Z",
     "start_time": "2025-06-10T08:11:21.008512Z"
    }
   },
   "source": [
    "import pandas as pd\n",
    "\n",
    "import warnings\n",
    "\n",
    "warnings.filterwarnings('ignore')"
   ],
   "outputs": [],
   "execution_count": 1
  },
  {
   "metadata": {
    "ExecuteTime": {
     "end_time": "2025-06-10T08:12:02.569827Z",
     "start_time": "2025-06-10T08:11:21.046218Z"
    }
   },
   "cell_type": "code",
   "source": [
    "DATA_DIR = '../data'\n",
    "\n",
    "df = pd.read_csv(DATA_DIR + '/lenta_news.csv', parse_dates=['date'],\n",
    "                 dtype={'url': object, 'title': object, 'text': object, 'topic': object, 'tags': object})"
   ],
   "id": "51ae32accb632672",
   "outputs": [],
   "execution_count": 2
  },
  {
   "cell_type": "code",
   "id": "a842074820fcbbb6",
   "metadata": {
    "id": "a842074820fcbbb6",
    "outputId": "47c8ab77-4d1f-4aca-f4f1-73b6d98de4c2",
    "colab": {
     "base_uri": "https://localhost:8080/"
    },
    "executionInfo": {
     "status": "ok",
     "timestamp": 1747326895618,
     "user_tz": -180,
     "elapsed": 10,
     "user": {
      "displayName": "fave gacex",
      "userId": "09337749513097796277"
     }
    },
    "ExecuteTime": {
     "end_time": "2025-06-10T08:12:02.967442Z",
     "start_time": "2025-06-10T08:12:02.953875Z"
    }
   },
   "source": [
    "df.shape"
   ],
   "outputs": [
    {
     "data": {
      "text/plain": [
       "(808558, 6)"
      ]
     },
     "execution_count": 3,
     "metadata": {},
     "output_type": "execute_result"
    }
   ],
   "execution_count": 3
  },
  {
   "cell_type": "code",
   "id": "794403283ed5d13e",
   "metadata": {
    "id": "794403283ed5d13e",
    "outputId": "21a4f254-4405-44f7-89bd-46cd86ea32f3",
    "colab": {
     "base_uri": "https://localhost:8080/"
    },
    "executionInfo": {
     "status": "ok",
     "timestamp": 1747326895924,
     "user_tz": -180,
     "elapsed": 16,
     "user": {
      "displayName": "fave gacex",
      "userId": "09337749513097796277"
     }
    },
    "ExecuteTime": {
     "end_time": "2025-06-10T08:12:03.487832Z",
     "start_time": "2025-06-10T08:12:03.107394Z"
    }
   },
   "source": [
    "df.info()"
   ],
   "outputs": [
    {
     "name": "stdout",
     "output_type": "stream",
     "text": [
      "<class 'pandas.core.frame.DataFrame'>\n",
      "RangeIndex: 808558 entries, 0 to 808557\n",
      "Data columns (total 6 columns):\n",
      " #   Column  Non-Null Count   Dtype         \n",
      "---  ------  --------------   -----         \n",
      " 0   url     808558 non-null  object        \n",
      " 1   title   808557 non-null  object        \n",
      " 2   text    808553 non-null  object        \n",
      " 3   topic   808339 non-null  object        \n",
      " 4   tags    780018 non-null  object        \n",
      " 5   date    808558 non-null  datetime64[ns]\n",
      "dtypes: datetime64[ns](1), object(5)\n",
      "memory usage: 37.0+ MB\n"
     ]
    }
   ],
   "execution_count": 4
  },
  {
   "metadata": {
    "ExecuteTime": {
     "end_time": "2025-06-10T08:12:03.572380Z",
     "start_time": "2025-06-10T08:12:03.549161Z"
    }
   },
   "cell_type": "code",
   "source": "df.head()",
   "id": "ffd4a3ac037d49c0",
   "outputs": [
    {
     "data": {
      "text/plain": [
       "                                           url  \\\n",
       "0   https://lenta.ru/news/1914/09/16/hungarnn/   \n",
       "1  https://lenta.ru/news/1914/09/16/lermontov/   \n",
       "2  https://lenta.ru/news/1914/09/17/nesteroff/   \n",
       "3   https://lenta.ru/news/1914/09/17/bulldogn/   \n",
       "4       https://lenta.ru/news/1914/09/18/zver/   \n",
       "\n",
       "                                               title  \\\n",
       "0  1914. Русские войска вступили в пределы Венгрии     \n",
       "1  1914. Празднование столетия М.Ю. Лермонтова от...   \n",
       "2                           1914. Das ist Nesteroff!   \n",
       "3                    1914. Бульдог-гонец под Льежем    \n",
       "4           1914. Под Люблином пойман швабский зверь   \n",
       "\n",
       "                                                text       topic  \\\n",
       "0  Бои у Сопоцкина и Друскеник закончились отступ...  Библиотека   \n",
       "1  Министерство народного просвещения, в виду про...  Библиотека   \n",
       "2  Штабс-капитан П. Н. Нестеров на днях, увидев в...  Библиотека   \n",
       "3  Фотограф-корреспондент Daily Mirror рассказыва...  Библиотека   \n",
       "4  Лица, приехавшие в Варшаву из Люблина, передаю...  Библиотека   \n",
       "\n",
       "             tags       date  \n",
       "0  Первая мировая 1914-09-16  \n",
       "1  Первая мировая 1914-09-16  \n",
       "2  Первая мировая 1914-09-17  \n",
       "3  Первая мировая 1914-09-17  \n",
       "4  Первая мировая 1914-09-18  "
      ],
      "text/html": [
       "<div>\n",
       "<style scoped>\n",
       "    .dataframe tbody tr th:only-of-type {\n",
       "        vertical-align: middle;\n",
       "    }\n",
       "\n",
       "    .dataframe tbody tr th {\n",
       "        vertical-align: top;\n",
       "    }\n",
       "\n",
       "    .dataframe thead th {\n",
       "        text-align: right;\n",
       "    }\n",
       "</style>\n",
       "<table border=\"1\" class=\"dataframe\">\n",
       "  <thead>\n",
       "    <tr style=\"text-align: right;\">\n",
       "      <th></th>\n",
       "      <th>url</th>\n",
       "      <th>title</th>\n",
       "      <th>text</th>\n",
       "      <th>topic</th>\n",
       "      <th>tags</th>\n",
       "      <th>date</th>\n",
       "    </tr>\n",
       "  </thead>\n",
       "  <tbody>\n",
       "    <tr>\n",
       "      <th>0</th>\n",
       "      <td>https://lenta.ru/news/1914/09/16/hungarnn/</td>\n",
       "      <td>1914. Русские войска вступили в пределы Венгрии</td>\n",
       "      <td>Бои у Сопоцкина и Друскеник закончились отступ...</td>\n",
       "      <td>Библиотека</td>\n",
       "      <td>Первая мировая</td>\n",
       "      <td>1914-09-16</td>\n",
       "    </tr>\n",
       "    <tr>\n",
       "      <th>1</th>\n",
       "      <td>https://lenta.ru/news/1914/09/16/lermontov/</td>\n",
       "      <td>1914. Празднование столетия М.Ю. Лермонтова от...</td>\n",
       "      <td>Министерство народного просвещения, в виду про...</td>\n",
       "      <td>Библиотека</td>\n",
       "      <td>Первая мировая</td>\n",
       "      <td>1914-09-16</td>\n",
       "    </tr>\n",
       "    <tr>\n",
       "      <th>2</th>\n",
       "      <td>https://lenta.ru/news/1914/09/17/nesteroff/</td>\n",
       "      <td>1914. Das ist Nesteroff!</td>\n",
       "      <td>Штабс-капитан П. Н. Нестеров на днях, увидев в...</td>\n",
       "      <td>Библиотека</td>\n",
       "      <td>Первая мировая</td>\n",
       "      <td>1914-09-17</td>\n",
       "    </tr>\n",
       "    <tr>\n",
       "      <th>3</th>\n",
       "      <td>https://lenta.ru/news/1914/09/17/bulldogn/</td>\n",
       "      <td>1914. Бульдог-гонец под Льежем</td>\n",
       "      <td>Фотограф-корреспондент Daily Mirror рассказыва...</td>\n",
       "      <td>Библиотека</td>\n",
       "      <td>Первая мировая</td>\n",
       "      <td>1914-09-17</td>\n",
       "    </tr>\n",
       "    <tr>\n",
       "      <th>4</th>\n",
       "      <td>https://lenta.ru/news/1914/09/18/zver/</td>\n",
       "      <td>1914. Под Люблином пойман швабский зверь</td>\n",
       "      <td>Лица, приехавшие в Варшаву из Люблина, передаю...</td>\n",
       "      <td>Библиотека</td>\n",
       "      <td>Первая мировая</td>\n",
       "      <td>1914-09-18</td>\n",
       "    </tr>\n",
       "  </tbody>\n",
       "</table>\n",
       "</div>"
      ]
     },
     "execution_count": 5,
     "metadata": {},
     "output_type": "execute_result"
    }
   ],
   "execution_count": 5
  },
  {
   "metadata": {
    "ExecuteTime": {
     "end_time": "2025-06-10T08:12:03.785941Z",
     "start_time": "2025-06-10T08:12:03.766821Z"
    }
   },
   "cell_type": "code",
   "source": "df.tail()",
   "id": "8115a49ba5bf8567",
   "outputs": [
    {
     "data": {
      "text/plain": [
       "                                                      url  \\\n",
       "808553  https://lenta.ru/news/2025/04/15/poyavilos-vid...   \n",
       "808554  https://lenta.ru/news/2025/04/15/kallas-vyskaz...   \n",
       "808555           https://lenta.ru/news/2025/04/15/v-rade/   \n",
       "808556  https://lenta.ru/news/2025/04/15/raskryty-posl...   \n",
       "808557  https://lenta.ru/news/2025/04/15/stalo-izvestn...   \n",
       "\n",
       "                                                    title  \\\n",
       "808553  Появилось видео последствий атаки дрона ВСУ на...   \n",
       "808554  Каллас высказалась о поставках ракет Taurus Ук...   \n",
       "808555     В Раде рассказали о попавшем в тупик Зеленском   \n",
       "808556  Раскрыты последствия атаки дрона ВСУ на жилой ...   \n",
       "808557  Стало известно об ударе ВСУ по нескольким мног...   \n",
       "\n",
       "                                                     text   topic  \\\n",
       "808553  В сети появилось видео последствий атаки дрона...  Россия   \n",
       "808554  Глава дипломатии Европейского союза (ЕС) Кая К...     Мир   \n",
       "808555  Президент Украины Владимир Зеленский оказался ...     Мир   \n",
       "808556  В Курске дрон Вооруженных сил Украины (ВСУ) вр...  Россия   \n",
       "808557  В результате массовой атаки БПЛА в Курске пост...  Россия   \n",
       "\n",
       "                tags       date  \n",
       "808553  Происшествия 2025-04-15  \n",
       "808554      Политика 2025-04-15  \n",
       "808555      Политика 2025-04-15  \n",
       "808556  Происшествия 2025-04-15  \n",
       "808557  Происшествия 2025-04-15  "
      ],
      "text/html": [
       "<div>\n",
       "<style scoped>\n",
       "    .dataframe tbody tr th:only-of-type {\n",
       "        vertical-align: middle;\n",
       "    }\n",
       "\n",
       "    .dataframe tbody tr th {\n",
       "        vertical-align: top;\n",
       "    }\n",
       "\n",
       "    .dataframe thead th {\n",
       "        text-align: right;\n",
       "    }\n",
       "</style>\n",
       "<table border=\"1\" class=\"dataframe\">\n",
       "  <thead>\n",
       "    <tr style=\"text-align: right;\">\n",
       "      <th></th>\n",
       "      <th>url</th>\n",
       "      <th>title</th>\n",
       "      <th>text</th>\n",
       "      <th>topic</th>\n",
       "      <th>tags</th>\n",
       "      <th>date</th>\n",
       "    </tr>\n",
       "  </thead>\n",
       "  <tbody>\n",
       "    <tr>\n",
       "      <th>808553</th>\n",
       "      <td>https://lenta.ru/news/2025/04/15/poyavilos-vid...</td>\n",
       "      <td>Появилось видео последствий атаки дрона ВСУ на...</td>\n",
       "      <td>В сети появилось видео последствий атаки дрона...</td>\n",
       "      <td>Россия</td>\n",
       "      <td>Происшествия</td>\n",
       "      <td>2025-04-15</td>\n",
       "    </tr>\n",
       "    <tr>\n",
       "      <th>808554</th>\n",
       "      <td>https://lenta.ru/news/2025/04/15/kallas-vyskaz...</td>\n",
       "      <td>Каллас высказалась о поставках ракет Taurus Ук...</td>\n",
       "      <td>Глава дипломатии Европейского союза (ЕС) Кая К...</td>\n",
       "      <td>Мир</td>\n",
       "      <td>Политика</td>\n",
       "      <td>2025-04-15</td>\n",
       "    </tr>\n",
       "    <tr>\n",
       "      <th>808555</th>\n",
       "      <td>https://lenta.ru/news/2025/04/15/v-rade/</td>\n",
       "      <td>В Раде рассказали о попавшем в тупик Зеленском</td>\n",
       "      <td>Президент Украины Владимир Зеленский оказался ...</td>\n",
       "      <td>Мир</td>\n",
       "      <td>Политика</td>\n",
       "      <td>2025-04-15</td>\n",
       "    </tr>\n",
       "    <tr>\n",
       "      <th>808556</th>\n",
       "      <td>https://lenta.ru/news/2025/04/15/raskryty-posl...</td>\n",
       "      <td>Раскрыты последствия атаки дрона ВСУ на жилой ...</td>\n",
       "      <td>В Курске дрон Вооруженных сил Украины (ВСУ) вр...</td>\n",
       "      <td>Россия</td>\n",
       "      <td>Происшествия</td>\n",
       "      <td>2025-04-15</td>\n",
       "    </tr>\n",
       "    <tr>\n",
       "      <th>808557</th>\n",
       "      <td>https://lenta.ru/news/2025/04/15/stalo-izvestn...</td>\n",
       "      <td>Стало известно об ударе ВСУ по нескольким мног...</td>\n",
       "      <td>В результате массовой атаки БПЛА в Курске пост...</td>\n",
       "      <td>Россия</td>\n",
       "      <td>Происшествия</td>\n",
       "      <td>2025-04-15</td>\n",
       "    </tr>\n",
       "  </tbody>\n",
       "</table>\n",
       "</div>"
      ]
     },
     "execution_count": 6,
     "metadata": {},
     "output_type": "execute_result"
    }
   ],
   "execution_count": 6
  },
  {
   "metadata": {},
   "cell_type": "markdown",
   "source": "## 1. Initial Cleaning",
   "id": "582a042442c1a375"
  },
  {
   "cell_type": "code",
   "id": "7dc2b734d089d848",
   "metadata": {
    "id": "7dc2b734d089d848",
    "executionInfo": {
     "status": "ok",
     "timestamp": 1747326940132,
     "user_tz": -180,
     "elapsed": 92,
     "user": {
      "displayName": "fave gacex",
      "userId": "09337749513097796277"
     }
    },
    "ExecuteTime": {
     "end_time": "2025-06-10T08:12:04.109022Z",
     "start_time": "2025-06-10T08:12:04.056442Z"
    }
   },
   "source": [
    "df.drop(columns=['tags'], inplace=True)"
   ],
   "outputs": [],
   "execution_count": 7
  },
  {
   "metadata": {
    "ExecuteTime": {
     "end_time": "2025-06-10T08:12:06.500092Z",
     "start_time": "2025-06-10T08:12:04.402499Z"
    }
   },
   "cell_type": "code",
   "source": [
    "df.dropna(subset=['url', 'title', 'text', 'topic', 'date'], inplace=True)\n",
    "df['title'] = df['title'].str.replace(' ', ' ')\n",
    "df['text'] = df['text'].str.replace(' ', ' ')"
   ],
   "id": "170924381a314a4c",
   "outputs": [],
   "execution_count": 8
  },
  {
   "metadata": {},
   "cell_type": "markdown",
   "source": [
    "## 2. Duplicate Detection and Removal\n",
    "Was created `title_clean` and `text_clean` by lowercasing and stripping non-Cyrillic characters.\n",
    "1. Remove exact duplicates on cleaned text and URL.\n",
    "2. Identify near-duplicates via TF–IDF (char n-grams) + cosine similarity (threshold = 0.8).\n"
   ],
   "id": "3ae66886a967b68"
  },
  {
   "metadata": {
    "ExecuteTime": {
     "end_time": "2025-06-10T08:13:38.811241Z",
     "start_time": "2025-06-10T08:12:06.547804Z"
    }
   },
   "cell_type": "code",
   "source": [
    "df['title_clean'] = (\n",
    "    df['title']\n",
    "    .str.lower()\n",
    "    .str.replace(r'[^а-яё\\s]', ' ', regex=True)\n",
    "    .str.replace(r' +', ' ', regex=True)\n",
    "    .str.replace('\\n', ' ')\n",
    ")\n",
    "\n",
    "df['text_clean'] = (\n",
    "    df['text']\n",
    "    .str.lower()\n",
    "    .str.replace(r'[^а-яё\\s]', ' ', regex=True)\n",
    "    .str.replace(r' +', ' ', regex=True)\n",
    "    .str.replace('\\n', ' ')\n",
    ")\n",
    "\n",
    "df.drop_duplicates(subset=['text_clean'], inplace=True)\n",
    "df.drop_duplicates(subset=['url'], inplace=True)"
   ],
   "id": "b67a425e2a9af1e1",
   "outputs": [],
   "execution_count": 9
  },
  {
   "cell_type": "code",
   "id": "8b2e73a1b72ebe83",
   "metadata": {
    "id": "8b2e73a1b72ebe83",
    "outputId": "42af5fd2-d4d8-4476-f3a6-e617d288a488",
    "colab": {
     "base_uri": "https://localhost:8080/",
     "height": 981
    },
    "executionInfo": {
     "status": "ok",
     "timestamp": 1747326946883,
     "user_tz": -180,
     "elapsed": 144,
     "user": {
      "displayName": "fave gacex",
      "userId": "09337749513097796277"
     }
    },
    "ExecuteTime": {
     "end_time": "2025-06-10T08:13:39.220858Z",
     "start_time": "2025-06-10T08:13:39.008644Z"
    }
   },
   "source": "df[df.duplicated(subset=['title_clean'])]",
   "outputs": [
    {
     "data": {
      "text/plain": [
       "                                                      url  \\\n",
       "2237                 https://lenta.ru/news/1999/12/02/tv/   \n",
       "3195            https://lenta.ru/news/2000/01/11/yeltsin/   \n",
       "5548             https://lenta.ru/news/2000/03/22/europe/   \n",
       "6182             https://lenta.ru/news/2000/04/06/poteri/   \n",
       "7144                https://lenta.ru/news/2000/04/28/imf/   \n",
       "...                                                   ...   \n",
       "808458  https://lenta.ru/news/2025/04/12/v-odesse-razd...   \n",
       "808470  https://lenta.ru/news/2025/04/13/13-aprelya-ka...   \n",
       "808499  https://lenta.ru/news/2025/04/14/-aprelya-kako...   \n",
       "808524  https://lenta.ru/news/2025/04/14/v-rossiyskom-...   \n",
       "808528  https://lenta.ru/news/2025/04/15/15-aprelya-ka...   \n",
       "\n",
       "                                                    title  \\\n",
       "2237               Березовский купил Video International?   \n",
       "3195             Фонду Ельцина выделят помещение в Кремле   \n",
       "5548              В Чечню прибудут эксперты Совета Европы   \n",
       "6182       Федеральные силы потеряли в Чечне 2095 человек   \n",
       "7144           Россия выплатила МВФ 59 миллионов долларов   \n",
       "...                                                   ...   \n",
       "808458                          В Одессе раздались взрывы   \n",
       "808470  13 апреля: какой праздник отмечают в России и ...   \n",
       "808499  14 апреля: какой праздник отмечают в России и ...   \n",
       "808524  В российском регионе объявили опасность атаки ...   \n",
       "808528  15 апреля: какой праздник отмечают в России и ...   \n",
       "\n",
       "                                                     text        topic  \\\n",
       "2237    1 декабря стало известно о том, что группа ком...    Экономика   \n",
       "3195    Борис Ельцин намерен организовать собственный ...       Россия   \n",
       "5548    Совет Европы получил принципиальное согласие М...       Россия   \n",
       "6182    Общие потери федеральных сил в ходе контртерро...       Россия   \n",
       "7144    Министерство финансов РФ перечислило в пятницу...    Экономика   \n",
       "...                                                   ...          ...   \n",
       "808458  В Одессе прогремели взрывы. Об этом сообщил мэ...  Бывший СССР   \n",
       "808470  13 апреля в России отмечают День мецената и бл...       Россия   \n",
       "808499  14 апреля в России отмечают День медицинской с...       Россия   \n",
       "808524  Губернатор Тульской области Дмитрий Миляев соо...       Россия   \n",
       "808528  15 апреля в России отмечают День специалиста п...       Россия   \n",
       "\n",
       "             date                                        title_clean  \\\n",
       "2237   1999-12-02                                 березовский купил    \n",
       "3195   2000-01-11           фонду ельцина выделят помещение в кремле   \n",
       "5548   2000-03-22            в чечню прибудут эксперты совета европы   \n",
       "6182   2000-04-06          федеральные силы потеряли в чечне человек   \n",
       "7144   2000-04-28            россия выплатила мвф миллионов долларов   \n",
       "...           ...                                                ...   \n",
       "808458 2025-04-12                          в одессе раздались взрывы   \n",
       "808470 2025-04-13     апреля какой праздник отмечают в россии и мире   \n",
       "808499 2025-04-14     апреля какой праздник отмечают в россии и мире   \n",
       "808524 2025-04-14  в российском регионе объявили опасность атаки ...   \n",
       "808528 2025-04-15     апреля какой праздник отмечают в россии и мире   \n",
       "\n",
       "                                               text_clean  \n",
       "2237     декабря стало известно о том что группа компа...  \n",
       "3195    борис ельцин намерен организовать собственный ...  \n",
       "5548    совет европы получил принципиальное согласие м...  \n",
       "6182    общие потери федеральных сил в ходе контртерро...  \n",
       "7144    министерство финансов рф перечислило в пятницу...  \n",
       "...                                                   ...  \n",
       "808458  в одессе прогремели взрывы об этом сообщил мэр...  \n",
       "808470   апреля в россии отмечают день мецената и благ...  \n",
       "808499   апреля в россии отмечают день медицинской слу...  \n",
       "808524  губернатор тульской области дмитрий миляев соо...  \n",
       "808528   апреля в россии отмечают день специалиста по ...  \n",
       "\n",
       "[6579 rows x 7 columns]"
      ],
      "text/html": [
       "<div>\n",
       "<style scoped>\n",
       "    .dataframe tbody tr th:only-of-type {\n",
       "        vertical-align: middle;\n",
       "    }\n",
       "\n",
       "    .dataframe tbody tr th {\n",
       "        vertical-align: top;\n",
       "    }\n",
       "\n",
       "    .dataframe thead th {\n",
       "        text-align: right;\n",
       "    }\n",
       "</style>\n",
       "<table border=\"1\" class=\"dataframe\">\n",
       "  <thead>\n",
       "    <tr style=\"text-align: right;\">\n",
       "      <th></th>\n",
       "      <th>url</th>\n",
       "      <th>title</th>\n",
       "      <th>text</th>\n",
       "      <th>topic</th>\n",
       "      <th>date</th>\n",
       "      <th>title_clean</th>\n",
       "      <th>text_clean</th>\n",
       "    </tr>\n",
       "  </thead>\n",
       "  <tbody>\n",
       "    <tr>\n",
       "      <th>2237</th>\n",
       "      <td>https://lenta.ru/news/1999/12/02/tv/</td>\n",
       "      <td>Березовский купил Video International?</td>\n",
       "      <td>1 декабря стало известно о том, что группа ком...</td>\n",
       "      <td>Экономика</td>\n",
       "      <td>1999-12-02</td>\n",
       "      <td>березовский купил</td>\n",
       "      <td>декабря стало известно о том что группа компа...</td>\n",
       "    </tr>\n",
       "    <tr>\n",
       "      <th>3195</th>\n",
       "      <td>https://lenta.ru/news/2000/01/11/yeltsin/</td>\n",
       "      <td>Фонду Ельцина выделят помещение в Кремле</td>\n",
       "      <td>Борис Ельцин намерен организовать собственный ...</td>\n",
       "      <td>Россия</td>\n",
       "      <td>2000-01-11</td>\n",
       "      <td>фонду ельцина выделят помещение в кремле</td>\n",
       "      <td>борис ельцин намерен организовать собственный ...</td>\n",
       "    </tr>\n",
       "    <tr>\n",
       "      <th>5548</th>\n",
       "      <td>https://lenta.ru/news/2000/03/22/europe/</td>\n",
       "      <td>В Чечню прибудут эксперты Совета Европы</td>\n",
       "      <td>Совет Европы получил принципиальное согласие М...</td>\n",
       "      <td>Россия</td>\n",
       "      <td>2000-03-22</td>\n",
       "      <td>в чечню прибудут эксперты совета европы</td>\n",
       "      <td>совет европы получил принципиальное согласие м...</td>\n",
       "    </tr>\n",
       "    <tr>\n",
       "      <th>6182</th>\n",
       "      <td>https://lenta.ru/news/2000/04/06/poteri/</td>\n",
       "      <td>Федеральные силы потеряли в Чечне 2095 человек</td>\n",
       "      <td>Общие потери федеральных сил в ходе контртерро...</td>\n",
       "      <td>Россия</td>\n",
       "      <td>2000-04-06</td>\n",
       "      <td>федеральные силы потеряли в чечне человек</td>\n",
       "      <td>общие потери федеральных сил в ходе контртерро...</td>\n",
       "    </tr>\n",
       "    <tr>\n",
       "      <th>7144</th>\n",
       "      <td>https://lenta.ru/news/2000/04/28/imf/</td>\n",
       "      <td>Россия выплатила МВФ 59 миллионов долларов</td>\n",
       "      <td>Министерство финансов РФ перечислило в пятницу...</td>\n",
       "      <td>Экономика</td>\n",
       "      <td>2000-04-28</td>\n",
       "      <td>россия выплатила мвф миллионов долларов</td>\n",
       "      <td>министерство финансов рф перечислило в пятницу...</td>\n",
       "    </tr>\n",
       "    <tr>\n",
       "      <th>...</th>\n",
       "      <td>...</td>\n",
       "      <td>...</td>\n",
       "      <td>...</td>\n",
       "      <td>...</td>\n",
       "      <td>...</td>\n",
       "      <td>...</td>\n",
       "      <td>...</td>\n",
       "    </tr>\n",
       "    <tr>\n",
       "      <th>808458</th>\n",
       "      <td>https://lenta.ru/news/2025/04/12/v-odesse-razd...</td>\n",
       "      <td>В Одессе раздались взрывы</td>\n",
       "      <td>В Одессе прогремели взрывы. Об этом сообщил мэ...</td>\n",
       "      <td>Бывший СССР</td>\n",
       "      <td>2025-04-12</td>\n",
       "      <td>в одессе раздались взрывы</td>\n",
       "      <td>в одессе прогремели взрывы об этом сообщил мэр...</td>\n",
       "    </tr>\n",
       "    <tr>\n",
       "      <th>808470</th>\n",
       "      <td>https://lenta.ru/news/2025/04/13/13-aprelya-ka...</td>\n",
       "      <td>13 апреля: какой праздник отмечают в России и ...</td>\n",
       "      <td>13 апреля в России отмечают День мецената и бл...</td>\n",
       "      <td>Россия</td>\n",
       "      <td>2025-04-13</td>\n",
       "      <td>апреля какой праздник отмечают в россии и мире</td>\n",
       "      <td>апреля в россии отмечают день мецената и благ...</td>\n",
       "    </tr>\n",
       "    <tr>\n",
       "      <th>808499</th>\n",
       "      <td>https://lenta.ru/news/2025/04/14/-aprelya-kako...</td>\n",
       "      <td>14 апреля: какой праздник отмечают в России и ...</td>\n",
       "      <td>14 апреля в России отмечают День медицинской с...</td>\n",
       "      <td>Россия</td>\n",
       "      <td>2025-04-14</td>\n",
       "      <td>апреля какой праздник отмечают в россии и мире</td>\n",
       "      <td>апреля в россии отмечают день медицинской слу...</td>\n",
       "    </tr>\n",
       "    <tr>\n",
       "      <th>808524</th>\n",
       "      <td>https://lenta.ru/news/2025/04/14/v-rossiyskom-...</td>\n",
       "      <td>В российском регионе объявили опасность атаки ...</td>\n",
       "      <td>Губернатор Тульской области Дмитрий Миляев соо...</td>\n",
       "      <td>Россия</td>\n",
       "      <td>2025-04-14</td>\n",
       "      <td>в российском регионе объявили опасность атаки ...</td>\n",
       "      <td>губернатор тульской области дмитрий миляев соо...</td>\n",
       "    </tr>\n",
       "    <tr>\n",
       "      <th>808528</th>\n",
       "      <td>https://lenta.ru/news/2025/04/15/15-aprelya-ka...</td>\n",
       "      <td>15 апреля: какой праздник отмечают в России и ...</td>\n",
       "      <td>15 апреля в России отмечают День специалиста п...</td>\n",
       "      <td>Россия</td>\n",
       "      <td>2025-04-15</td>\n",
       "      <td>апреля какой праздник отмечают в россии и мире</td>\n",
       "      <td>апреля в россии отмечают день специалиста по ...</td>\n",
       "    </tr>\n",
       "  </tbody>\n",
       "</table>\n",
       "<p>6579 rows × 7 columns</p>\n",
       "</div>"
      ]
     },
     "execution_count": 10,
     "metadata": {},
     "output_type": "execute_result"
    }
   ],
   "execution_count": 10
  },
  {
   "metadata": {
    "ExecuteTime": {
     "end_time": "2025-06-10T08:13:40.715972Z",
     "start_time": "2025-06-10T08:13:40.643217Z"
    }
   },
   "cell_type": "code",
   "source": "df[df['title'] == 'Фонду Ельцина выделят помещение в Кремле']",
   "id": "9502f7ce48b7fa15",
   "outputs": [
    {
     "data": {
      "text/plain": [
       "                                            url  \\\n",
       "3090  https://lenta.ru/news/2000/01/02/yeltsin/   \n",
       "3195  https://lenta.ru/news/2000/01/11/yeltsin/   \n",
       "\n",
       "                                         title  \\\n",
       "3090  Фонду Ельцина выделят помещение в Кремле   \n",
       "3195  Фонду Ельцина выделят помещение в Кремле   \n",
       "\n",
       "                                                   text   topic       date  \\\n",
       "3090  Борис Ельцин намерен организовать собственный ...  Россия 2000-01-02   \n",
       "3195  Борис Ельцин намерен организовать собственный ...  Россия 2000-01-11   \n",
       "\n",
       "                                   title_clean  \\\n",
       "3090  фонду ельцина выделят помещение в кремле   \n",
       "3195  фонду ельцина выделят помещение в кремле   \n",
       "\n",
       "                                             text_clean  \n",
       "3090  борис ельцин намерен организовать собственный ...  \n",
       "3195  борис ельцин намерен организовать собственный ...  "
      ],
      "text/html": [
       "<div>\n",
       "<style scoped>\n",
       "    .dataframe tbody tr th:only-of-type {\n",
       "        vertical-align: middle;\n",
       "    }\n",
       "\n",
       "    .dataframe tbody tr th {\n",
       "        vertical-align: top;\n",
       "    }\n",
       "\n",
       "    .dataframe thead th {\n",
       "        text-align: right;\n",
       "    }\n",
       "</style>\n",
       "<table border=\"1\" class=\"dataframe\">\n",
       "  <thead>\n",
       "    <tr style=\"text-align: right;\">\n",
       "      <th></th>\n",
       "      <th>url</th>\n",
       "      <th>title</th>\n",
       "      <th>text</th>\n",
       "      <th>topic</th>\n",
       "      <th>date</th>\n",
       "      <th>title_clean</th>\n",
       "      <th>text_clean</th>\n",
       "    </tr>\n",
       "  </thead>\n",
       "  <tbody>\n",
       "    <tr>\n",
       "      <th>3090</th>\n",
       "      <td>https://lenta.ru/news/2000/01/02/yeltsin/</td>\n",
       "      <td>Фонду Ельцина выделят помещение в Кремле</td>\n",
       "      <td>Борис Ельцин намерен организовать собственный ...</td>\n",
       "      <td>Россия</td>\n",
       "      <td>2000-01-02</td>\n",
       "      <td>фонду ельцина выделят помещение в кремле</td>\n",
       "      <td>борис ельцин намерен организовать собственный ...</td>\n",
       "    </tr>\n",
       "    <tr>\n",
       "      <th>3195</th>\n",
       "      <td>https://lenta.ru/news/2000/01/11/yeltsin/</td>\n",
       "      <td>Фонду Ельцина выделят помещение в Кремле</td>\n",
       "      <td>Борис Ельцин намерен организовать собственный ...</td>\n",
       "      <td>Россия</td>\n",
       "      <td>2000-01-11</td>\n",
       "      <td>фонду ельцина выделят помещение в кремле</td>\n",
       "      <td>борис ельцин намерен организовать собственный ...</td>\n",
       "    </tr>\n",
       "  </tbody>\n",
       "</table>\n",
       "</div>"
      ]
     },
     "execution_count": 11,
     "metadata": {},
     "output_type": "execute_result"
    }
   ],
   "execution_count": 11
  },
  {
   "cell_type": "code",
   "id": "4d27c6a399a25eec",
   "metadata": {
    "id": "4d27c6a399a25eec",
    "outputId": "29d37b9a-3895-4094-839f-9668f540fe23",
    "colab": {
     "base_uri": "https://localhost:8080/",
     "height": 542
    },
    "executionInfo": {
     "status": "ok",
     "timestamp": 1747327029042,
     "user_tz": -180,
     "elapsed": 50,
     "user": {
      "displayName": "fave gacex",
      "userId": "09337749513097796277"
     }
    },
    "ExecuteTime": {
     "end_time": "2025-06-10T08:13:40.958258Z",
     "start_time": "2025-06-10T08:13:40.887269Z"
    }
   },
   "source": [
    "df[df['title'] == 'Цены на нефть начали падать']"
   ],
   "outputs": [
    {
     "data": {
      "text/plain": [
       "                                          url                        title  \\\n",
       "8586    https://lenta.ru/news/2000/06/06/oil/  Цены на нефть начали падать   \n",
       "10281  https://lenta.ru/news/2000/07/17/opec/  Цены на нефть начали падать   \n",
       "12694  https://lenta.ru/news/2000/09/11/opec/  Цены на нефть начали падать   \n",
       "22198   https://lenta.ru/news/2001/02/21/oil/  Цены на нефть начали падать   \n",
       "\n",
       "                                                    text      topic  \\\n",
       "8586   На лондонской и нью-йоркской нефтяных биржах п...  Экономика   \n",
       "10281  Организация экспортеров нефти ОПЕК приняла реш...  Экономика   \n",
       "12694  В понедельник в электронной системе торгов New...  Экономика   \n",
       "22198  Стоимость базовых сортов нефти на Нью-Йоркской...  Экономика   \n",
       "\n",
       "            date                  title_clean  \\\n",
       "8586  2000-06-06  цены на нефть начали падать   \n",
       "10281 2000-07-17  цены на нефть начали падать   \n",
       "12694 2000-09-11  цены на нефть начали падать   \n",
       "22198 2001-02-21  цены на нефть начали падать   \n",
       "\n",
       "                                              text_clean  \n",
       "8586   на лондонской и нью йоркской нефтяных биржах п...  \n",
       "10281  организация экспортеров нефти опек приняла реш...  \n",
       "12694  в понедельник в электронной системе торгов цен...  \n",
       "22198  стоимость базовых сортов нефти на нью йоркской...  "
      ],
      "text/html": [
       "<div>\n",
       "<style scoped>\n",
       "    .dataframe tbody tr th:only-of-type {\n",
       "        vertical-align: middle;\n",
       "    }\n",
       "\n",
       "    .dataframe tbody tr th {\n",
       "        vertical-align: top;\n",
       "    }\n",
       "\n",
       "    .dataframe thead th {\n",
       "        text-align: right;\n",
       "    }\n",
       "</style>\n",
       "<table border=\"1\" class=\"dataframe\">\n",
       "  <thead>\n",
       "    <tr style=\"text-align: right;\">\n",
       "      <th></th>\n",
       "      <th>url</th>\n",
       "      <th>title</th>\n",
       "      <th>text</th>\n",
       "      <th>topic</th>\n",
       "      <th>date</th>\n",
       "      <th>title_clean</th>\n",
       "      <th>text_clean</th>\n",
       "    </tr>\n",
       "  </thead>\n",
       "  <tbody>\n",
       "    <tr>\n",
       "      <th>8586</th>\n",
       "      <td>https://lenta.ru/news/2000/06/06/oil/</td>\n",
       "      <td>Цены на нефть начали падать</td>\n",
       "      <td>На лондонской и нью-йоркской нефтяных биржах п...</td>\n",
       "      <td>Экономика</td>\n",
       "      <td>2000-06-06</td>\n",
       "      <td>цены на нефть начали падать</td>\n",
       "      <td>на лондонской и нью йоркской нефтяных биржах п...</td>\n",
       "    </tr>\n",
       "    <tr>\n",
       "      <th>10281</th>\n",
       "      <td>https://lenta.ru/news/2000/07/17/opec/</td>\n",
       "      <td>Цены на нефть начали падать</td>\n",
       "      <td>Организация экспортеров нефти ОПЕК приняла реш...</td>\n",
       "      <td>Экономика</td>\n",
       "      <td>2000-07-17</td>\n",
       "      <td>цены на нефть начали падать</td>\n",
       "      <td>организация экспортеров нефти опек приняла реш...</td>\n",
       "    </tr>\n",
       "    <tr>\n",
       "      <th>12694</th>\n",
       "      <td>https://lenta.ru/news/2000/09/11/opec/</td>\n",
       "      <td>Цены на нефть начали падать</td>\n",
       "      <td>В понедельник в электронной системе торгов New...</td>\n",
       "      <td>Экономика</td>\n",
       "      <td>2000-09-11</td>\n",
       "      <td>цены на нефть начали падать</td>\n",
       "      <td>в понедельник в электронной системе торгов цен...</td>\n",
       "    </tr>\n",
       "    <tr>\n",
       "      <th>22198</th>\n",
       "      <td>https://lenta.ru/news/2001/02/21/oil/</td>\n",
       "      <td>Цены на нефть начали падать</td>\n",
       "      <td>Стоимость базовых сортов нефти на Нью-Йоркской...</td>\n",
       "      <td>Экономика</td>\n",
       "      <td>2001-02-21</td>\n",
       "      <td>цены на нефть начали падать</td>\n",
       "      <td>стоимость базовых сортов нефти на нью йоркской...</td>\n",
       "    </tr>\n",
       "  </tbody>\n",
       "</table>\n",
       "</div>"
      ]
     },
     "execution_count": 12,
     "metadata": {},
     "output_type": "execute_result"
    }
   ],
   "execution_count": 12
  },
  {
   "metadata": {},
   "cell_type": "markdown",
   "source": [
    "### Identify and remove near-duplicates via TF–IDF + cosine similarity (threshold = 0.8).\n",
    "Because all news in dataset was collected from one source there is no paraphrased articles and therefore tf-idf + cosine similarity should able to remove all duplicates"
   ],
   "id": "eb0dc4411dacb3d2"
  },
  {
   "cell_type": "code",
   "id": "c3529fac4df55c3c",
   "metadata": {
    "id": "c3529fac4df55c3c",
    "executionInfo": {
     "status": "ok",
     "timestamp": 1747327037474,
     "user_tz": -180,
     "elapsed": 8426,
     "user": {
      "displayName": "fave gacex",
      "userId": "09337749513097796277"
     }
    },
    "ExecuteTime": {
     "end_time": "2025-06-10T08:14:03.800013Z",
     "start_time": "2025-06-10T08:13:41.220134Z"
    }
   },
   "source": [
    "from sklearn.feature_extraction.text import TfidfVectorizer\n",
    "from sklearn.metrics.pairwise import cosine_similarity\n",
    "\n",
    "possible_duplicates = df[df.duplicated(subset=['title_clean'], keep=False)].reset_index()\n",
    "vectorizer = TfidfVectorizer(analyzer='char_wb', ngram_range=(5, 5))\n",
    "X = vectorizer.fit_transform(possible_duplicates['text_clean'])\n",
    "\n",
    "sim_matrix = cosine_similarity(X)"
   ],
   "outputs": [],
   "execution_count": 13
  },
  {
   "cell_type": "code",
   "id": "66692335215432f4",
   "metadata": {
    "id": "66692335215432f4",
    "executionInfo": {
     "status": "ok",
     "timestamp": 1747327087594,
     "user_tz": -180,
     "elapsed": 34882,
     "user": {
      "displayName": "fave gacex",
      "userId": "09337749513097796277"
     }
    },
    "ExecuteTime": {
     "end_time": "2025-06-10T08:14:38.321984Z",
     "start_time": "2025-06-10T08:14:03.872382Z"
    }
   },
   "source": [
    "similarity_threshold = 0.8\n",
    "\n",
    "to_drop = set()\n",
    "doubles = set()\n",
    "\n",
    "for title in possible_duplicates['title'].unique():\n",
    "    candidates = possible_duplicates[possible_duplicates['title'] == title].reset_index()\n",
    "\n",
    "    pairs = candidates.merge(candidates, how='cross', suffixes=('_i', '_j'))\n",
    "    pairs = pairs[pairs['level_0_i'] < pairs['level_0_j']]\n",
    "\n",
    "    for _, row in pairs.iterrows():\n",
    "        i, j = row['level_0_i'], row['level_0_j']\n",
    "        if sim_matrix[i, j] > similarity_threshold:\n",
    "            if len(row['text_clean_i']) < len(row['text_clean_j']):\n",
    "                doubles.add((row['index_i'], row['index_j']))\n",
    "                to_drop.add(row['index_i'])\n",
    "            else:\n",
    "                doubles.add((row['index_j'], row['index_i']))\n",
    "                to_drop.add(row['index_j'])"
   ],
   "outputs": [],
   "execution_count": 14
  },
  {
   "cell_type": "code",
   "id": "f11b782a60b0d66f",
   "metadata": {
    "id": "f11b782a60b0d66f",
    "outputId": "bf7d51d7-6a2a-45a7-f0cd-07ef386eb379",
    "colab": {
     "base_uri": "https://localhost:8080/",
     "height": 305
    },
    "executionInfo": {
     "status": "ok",
     "timestamp": 1747327087664,
     "user_tz": -180,
     "elapsed": 19,
     "user": {
      "displayName": "fave gacex",
      "userId": "09337749513097796277"
     }
    },
    "ExecuteTime": {
     "end_time": "2025-06-10T08:14:38.376151Z",
     "start_time": "2025-06-10T08:14:38.346612Z"
    }
   },
   "source": "df.loc[[*next(iter(doubles))]]",
   "outputs": [
    {
     "data": {
      "text/plain": [
       "                                              url  \\\n",
       "487783  https://lenta.ru/news/2013/11/21/housing/   \n",
       "489206  https://lenta.ru/news/2013/12/03/rosstat/   \n",
       "\n",
       "                                                 title  \\\n",
       "487783  Ввод жилья в России увеличился на 13 процентов   \n",
       "489206  Ввод жилья в России увеличился на 13 процентов   \n",
       "\n",
       "                                                     text topic       date  \\\n",
       "487783  В январе-октябре 2013 года в России ввели в эк...   Дом 2013-11-21   \n",
       "489206  В январе-октябре 2013 года в России ввели в эк...   Дом 2013-12-03   \n",
       "\n",
       "                                        title_clean  \\\n",
       "487783  ввод жилья в россии увеличился на процентов   \n",
       "489206  ввод жилья в россии увеличился на процентов   \n",
       "\n",
       "                                               text_clean  \n",
       "487783  в январе октябре года в россии ввели в эксплуа...  \n",
       "489206  в январе октябре года в россии ввели в эксплуа...  "
      ],
      "text/html": [
       "<div>\n",
       "<style scoped>\n",
       "    .dataframe tbody tr th:only-of-type {\n",
       "        vertical-align: middle;\n",
       "    }\n",
       "\n",
       "    .dataframe tbody tr th {\n",
       "        vertical-align: top;\n",
       "    }\n",
       "\n",
       "    .dataframe thead th {\n",
       "        text-align: right;\n",
       "    }\n",
       "</style>\n",
       "<table border=\"1\" class=\"dataframe\">\n",
       "  <thead>\n",
       "    <tr style=\"text-align: right;\">\n",
       "      <th></th>\n",
       "      <th>url</th>\n",
       "      <th>title</th>\n",
       "      <th>text</th>\n",
       "      <th>topic</th>\n",
       "      <th>date</th>\n",
       "      <th>title_clean</th>\n",
       "      <th>text_clean</th>\n",
       "    </tr>\n",
       "  </thead>\n",
       "  <tbody>\n",
       "    <tr>\n",
       "      <th>487783</th>\n",
       "      <td>https://lenta.ru/news/2013/11/21/housing/</td>\n",
       "      <td>Ввод жилья в России увеличился на 13 процентов</td>\n",
       "      <td>В январе-октябре 2013 года в России ввели в эк...</td>\n",
       "      <td>Дом</td>\n",
       "      <td>2013-11-21</td>\n",
       "      <td>ввод жилья в россии увеличился на процентов</td>\n",
       "      <td>в январе октябре года в россии ввели в эксплуа...</td>\n",
       "    </tr>\n",
       "    <tr>\n",
       "      <th>489206</th>\n",
       "      <td>https://lenta.ru/news/2013/12/03/rosstat/</td>\n",
       "      <td>Ввод жилья в России увеличился на 13 процентов</td>\n",
       "      <td>В январе-октябре 2013 года в России ввели в эк...</td>\n",
       "      <td>Дом</td>\n",
       "      <td>2013-12-03</td>\n",
       "      <td>ввод жилья в россии увеличился на процентов</td>\n",
       "      <td>в январе октябре года в россии ввели в эксплуа...</td>\n",
       "    </tr>\n",
       "  </tbody>\n",
       "</table>\n",
       "</div>"
      ]
     },
     "execution_count": 15,
     "metadata": {},
     "output_type": "execute_result"
    }
   ],
   "execution_count": 15
  },
  {
   "cell_type": "code",
   "id": "8c76e53440cbe74",
   "metadata": {
    "id": "8c76e53440cbe74",
    "executionInfo": {
     "status": "ok",
     "timestamp": 1747327087942,
     "user_tz": -180,
     "elapsed": 268,
     "user": {
      "displayName": "fave gacex",
      "userId": "09337749513097796277"
     }
    },
    "ExecuteTime": {
     "end_time": "2025-06-10T08:14:38.714774Z",
     "start_time": "2025-06-10T08:14:38.434754Z"
    }
   },
   "source": [
    "df.drop(index=to_drop, inplace=True)"
   ],
   "outputs": [],
   "execution_count": 16
  },
  {
   "cell_type": "code",
   "id": "d756d6554275d021",
   "metadata": {
    "id": "d756d6554275d021",
    "outputId": "85b2f29f-20ba-4a08-827b-a488e366077e",
    "colab": {
     "base_uri": "https://localhost:8080/"
    },
    "executionInfo": {
     "status": "ok",
     "timestamp": 1747327286913,
     "user_tz": -180,
     "elapsed": 26,
     "user": {
      "displayName": "fave gacex",
      "userId": "09337749513097796277"
     }
    },
    "ExecuteTime": {
     "end_time": "2025-06-10T08:14:38.758062Z",
     "start_time": "2025-06-10T08:14:38.752801Z"
    }
   },
   "source": [
    "df.shape"
   ],
   "outputs": [
    {
     "data": {
      "text/plain": [
       "(806938, 7)"
      ]
     },
     "execution_count": 17,
     "metadata": {},
     "output_type": "execute_result"
    }
   ],
   "execution_count": 17
  },
  {
   "metadata": {},
   "cell_type": "markdown",
   "source": [
    "## 3. Exploratory Data Analysis (EDA)\n",
    "\n",
    "We now inspect:  \n",
    "- Temporal coverage  \n",
    "- Topic distribution  \n",
    "- Text length characteristics  \n",
    "- Monthly publication trends"
   ],
   "id": "dd9d67959dfefe4d"
  },
  {
   "cell_type": "markdown",
   "source": "#### Date range",
   "metadata": {
    "id": "LoHOiNGN091G"
   },
   "id": "LoHOiNGN091G"
  },
  {
   "cell_type": "code",
   "source": [
    "df['date'].min(), \"—\", df['date'].max()"
   ],
   "metadata": {
    "colab": {
     "base_uri": "https://localhost:8080/"
    },
    "id": "9fsNWQ3f08R1",
    "executionInfo": {
     "status": "ok",
     "timestamp": 1747327371209,
     "user_tz": -180,
     "elapsed": 17,
     "user": {
      "displayName": "fave gacex",
      "userId": "09337749513097796277"
     }
    },
    "outputId": "5ba63191-fbbf-4e96-d8b3-b925e18742eb",
    "ExecuteTime": {
     "end_time": "2025-06-10T08:14:38.939451Z",
     "start_time": "2025-06-10T08:14:38.928479Z"
    }
   },
   "id": "9fsNWQ3f08R1",
   "outputs": [
    {
     "data": {
      "text/plain": [
       "(Timestamp('1914-09-16 00:00:00'), '—', Timestamp('2025-04-15 00:00:00'))"
      ]
     },
     "execution_count": 18,
     "metadata": {},
     "output_type": "execute_result"
    }
   ],
   "execution_count": 18
  },
  {
   "metadata": {},
   "cell_type": "markdown",
   "source": "#### Topic Distribution",
   "id": "95c2a7ac713195a6"
  },
  {
   "cell_type": "code",
   "source": [
    "df['topic'].nunique()"
   ],
   "metadata": {
    "colab": {
     "base_uri": "https://localhost:8080/"
    },
    "id": "ehzlVptn00SX",
    "executionInfo": {
     "status": "ok",
     "timestamp": 1747327338986,
     "user_tz": -180,
     "elapsed": 60,
     "user": {
      "displayName": "fave gacex",
      "userId": "09337749513097796277"
     }
    },
    "outputId": "900ec3e0-7eef-4290-e352-f3451f99b551",
    "ExecuteTime": {
     "end_time": "2025-06-10T08:14:39.145212Z",
     "start_time": "2025-06-10T08:14:39.072367Z"
    }
   },
   "id": "ehzlVptn00SX",
   "outputs": [
    {
     "data": {
      "text/plain": [
       "27"
      ]
     },
     "execution_count": 19,
     "metadata": {},
     "output_type": "execute_result"
    }
   ],
   "execution_count": 19
  },
  {
   "cell_type": "code",
   "id": "48682b3da9c5c889",
   "metadata": {
    "id": "48682b3da9c5c889",
    "outputId": "27a36494-bdad-49f9-911c-ded07197d24f",
    "colab": {
     "base_uri": "https://localhost:8080/",
     "height": 335
    },
    "executionInfo": {
     "status": "ok",
     "timestamp": 1747327088066,
     "user_tz": -180,
     "elapsed": 19,
     "user": {
      "displayName": "fave gacex",
      "userId": "09337749513097796277"
     }
    },
    "ExecuteTime": {
     "end_time": "2025-06-10T08:14:39.273985Z",
     "start_time": "2025-06-10T08:14:39.208702Z"
    }
   },
   "source": [
    "df['topic'].value_counts().describe()"
   ],
   "outputs": [
    {
     "data": {
      "text/plain": [
       "count        27.000000\n",
       "mean      29886.592593\n",
       "std       46488.660383\n",
       "min           1.000000\n",
       "25%          89.000000\n",
       "50%        7415.000000\n",
       "75%       51906.000000\n",
       "max      172488.000000\n",
       "Name: count, dtype: float64"
      ]
     },
     "execution_count": 20,
     "metadata": {},
     "output_type": "execute_result"
    }
   ],
   "execution_count": 20
  },
  {
   "cell_type": "code",
   "id": "a543b8c90f2eaa60",
   "metadata": {
    "id": "a543b8c90f2eaa60",
    "outputId": "ad53d8a0-a5f1-401b-b208-6c252fda25a0",
    "colab": {
     "base_uri": "https://localhost:8080/",
     "height": 598
    },
    "executionInfo": {
     "status": "ok",
     "timestamp": 1747327088444,
     "user_tz": -180,
     "elapsed": 317,
     "user": {
      "displayName": "fave gacex",
      "userId": "09337749513097796277"
     }
    },
    "ExecuteTime": {
     "end_time": "2025-06-10T08:14:39.775010Z",
     "start_time": "2025-06-10T08:14:39.338007Z"
    }
   },
   "source": "df['topic'].value_counts().sort_values().plot(kind='bar')",
   "outputs": [
    {
     "data": {
      "text/plain": [
       "<Axes: xlabel='topic'>"
      ]
     },
     "execution_count": 21,
     "metadata": {},
     "output_type": "execute_result"
    },
    {
     "data": {
      "text/plain": [
       "<Figure size 640x480 with 1 Axes>"
      ],
      "image/png": "[encoded data removed]"
     },
     "metadata": {},
     "output_type": "display_data"
    }
   ],
   "execution_count": 21
  },
  {
   "metadata": {},
   "cell_type": "markdown",
   "source": "#### 4.3 Monthly Publication Volume",
   "id": "b8c5d107cfaaa8b8"
  },
  {
   "cell_type": "code",
   "source": [
    "monthly = df.set_index('date').resample('M').size()\n",
    "monthly.plot(marker='o', figsize=(10, 4), title='Monthly Article Volume')"
   ],
   "metadata": {
    "colab": {
     "base_uri": "https://localhost:8080/",
     "height": 435
    },
    "id": "jJnBQd831Xvf",
    "executionInfo": {
     "status": "ok",
     "timestamp": 1747327484161,
     "user_tz": -180,
     "elapsed": 478,
     "user": {
      "displayName": "fave gacex",
      "userId": "09337749513097796277"
     }
    },
    "outputId": "0645aa23-16d3-422f-c7e4-2d666205ab28",
    "ExecuteTime": {
     "end_time": "2025-06-10T08:14:40.392039Z",
     "start_time": "2025-06-10T08:14:39.809221Z"
    }
   },
   "id": "jJnBQd831Xvf",
   "outputs": [
    {
     "data": {
      "text/plain": [
       "<Axes: title={'center': 'Monthly Article Volume'}, xlabel='date'>"
      ]
     },
     "execution_count": 22,
     "metadata": {},
     "output_type": "execute_result"
    },
    {
     "data": {
      "text/plain": [
       "<Figure size 1000x400 with 1 Axes>"
      ],
      "image/png": "[encoded data removed]"
     },
     "metadata": {},
     "output_type": "display_data"
    }
   ],
   "execution_count": 22
  },
  {
   "metadata": {},
   "cell_type": "markdown",
   "source": "#### 4.4 Token Length Distributions",
   "id": "12e3255ea8350020"
  },
  {
   "metadata": {
    "id": "4ltFmZHn1fM7",
    "executionInfo": {
     "status": "ok",
     "timestamp": 1747327552822,
     "user_tz": -180,
     "elapsed": 35136,
     "user": {
      "displayName": "fave gacex",
      "userId": "09337749513097796277"
     }
    },
    "ExecuteTime": {
     "end_time": "2025-06-10T08:15:14.220896Z",
     "start_time": "2025-06-10T08:14:40.406673Z"
    }
   },
   "cell_type": "code",
   "source": [
    "df['title_len'] = df['title_clean'].str.split().apply(len)\n",
    "df['text_len'] = df['text_clean'].str.split().apply(len)"
   ],
   "id": "4ltFmZHn1fM7",
   "outputs": [],
   "execution_count": 23
  },
  {
   "cell_type": "code",
   "source": [
    "from matplotlib import pyplot as plt\n",
    "\n",
    "df['title_len'].hist(bins=30)\n",
    "plt.title('Title Length (tokens)')"
   ],
   "metadata": {
    "colab": {
     "base_uri": "https://localhost:8080/",
     "height": 320
    },
    "id": "JqA-23dQ1gg2",
    "executionInfo": {
     "status": "ok",
     "timestamp": 1747327583484,
     "user_tz": -180,
     "elapsed": 394,
     "user": {
      "displayName": "fave gacex",
      "userId": "09337749513097796277"
     }
    },
    "outputId": "713b27e8-1d9f-45a9-9918-d9242f354904",
    "ExecuteTime": {
     "end_time": "2025-06-10T08:15:14.454507Z",
     "start_time": "2025-06-10T08:15:14.240741Z"
    }
   },
   "id": "JqA-23dQ1gg2",
   "outputs": [
    {
     "data": {
      "text/plain": [
       "Text(0.5, 1.0, 'Title Length (tokens)')"
      ]
     },
     "execution_count": 24,
     "metadata": {},
     "output_type": "execute_result"
    },
    {
     "data": {
      "text/plain": [
       "<Figure size 640x480 with 1 Axes>"
      ],
      "image/png": "[encoded data removed]"
     },
     "metadata": {},
     "output_type": "display_data"
    }
   ],
   "execution_count": 24
  },
  {
   "metadata": {},
   "cell_type": "markdown",
   "source": "#### Text Length by Topic",
   "id": "3647ad5a62374b4c"
  },
  {
   "cell_type": "code",
   "source": [
    "import seaborn as sns\n",
    "from matplotlib.pyplot import figure\n",
    "\n",
    "def length_distribution():\n",
    "    figure(figsize=(10, 8), dpi=110)\n",
    "    sns.boxplot(x='topic', y='text_len', data=df)\n",
    "    plt.xticks(rotation=45)\n",
    "    plt.title('Text Length Distribution per Topic')\n",
    "    plt.show()\n",
    "    \n",
    "length_distribution()"
   ],
   "metadata": {
    "colab": {
     "base_uri": "https://localhost:8080/",
     "height": 571
    },
    "id": "VHPlXsv51nYS",
    "executionInfo": {
     "status": "ok",
     "timestamp": 1747327667379,
     "user_tz": -180,
     "elapsed": 1922,
     "user": {
      "displayName": "fave gacex",
      "userId": "09337749513097796277"
     }
    },
    "outputId": "be0673e4-8366-4611-f885-2f94961c3c51",
    "ExecuteTime": {
     "end_time": "2025-06-10T08:15:16.368056Z",
     "start_time": "2025-06-10T08:15:14.479846Z"
    }
   },
   "id": "VHPlXsv51nYS",
   "outputs": [
    {
     "data": {
      "text/plain": [
       "<Figure size 1100x880 with 1 Axes>"
      ],
      "image/png": "[encoded data removed]"
     },
     "metadata": {},
     "output_type": "display_data"
    }
   ],
   "execution_count": 25
  },
  {
   "metadata": {},
   "cell_type": "markdown",
   "source": "#### Removing Rare Topics",
   "id": "bce6b7c3f2bad937"
  },
  {
   "cell_type": "code",
   "id": "653d93b27aa664cc",
   "metadata": {
    "id": "653d93b27aa664cc",
    "executionInfo": {
     "status": "ok",
     "timestamp": 1747327689647,
     "user_tz": -180,
     "elapsed": 184,
     "user": {
      "displayName": "fave gacex",
      "userId": "09337749513097796277"
     }
    },
    "ExecuteTime": {
     "end_time": "2025-06-10T08:15:16.800938Z",
     "start_time": "2025-06-10T08:15:16.404575Z"
    }
   },
   "source": [
    "vc = df['topic'].value_counts()\n",
    "threshold = int(0.005 * df.shape[0])\n",
    "rare_labels = vc[vc < threshold].index\n",
    "df = df[~df['topic'].isin(rare_labels)]"
   ],
   "outputs": [],
   "execution_count": 26
  },
  {
   "metadata": {
    "ExecuteTime": {
     "end_time": "2025-06-10T08:15:17.031474Z",
     "start_time": "2025-06-10T08:15:16.821672Z"
    }
   },
   "cell_type": "code",
   "source": "df.drop(df[df['text_len'] > 2000].index, inplace=True)",
   "id": "1eb9c580c789fa17",
   "outputs": [],
   "execution_count": 27
  },
  {
   "metadata": {
    "ExecuteTime": {
     "end_time": "2025-06-10T08:15:18.802102Z",
     "start_time": "2025-06-10T08:15:17.053273Z"
    }
   },
   "cell_type": "code",
   "source": "length_distribution()",
   "id": "6f5518255e585140",
   "outputs": [
    {
     "data": {
      "text/plain": [
       "<Figure size 1100x880 with 1 Axes>"
      ],
      "image/png": "[encoded data removed]"
     },
     "metadata": {},
     "output_type": "display_data"
    }
   ],
   "execution_count": 28
  },
  {
   "cell_type": "code",
   "id": "673c02bdce1d27f3",
   "metadata": {
    "id": "673c02bdce1d27f3",
    "outputId": "bb61e22c-ba6a-40c9-e949-b558bd911516",
    "colab": {
     "base_uri": "https://localhost:8080/",
     "height": 598
    },
    "executionInfo": {
     "status": "ok",
     "timestamp": 1747327709879,
     "user_tz": -180,
     "elapsed": 154,
     "user": {
      "displayName": "fave gacex",
      "userId": "09337749513097796277"
     }
    },
    "ExecuteTime": {
     "end_time": "2025-06-10T08:15:19.117848Z",
     "start_time": "2025-06-10T08:15:18.882154Z"
    }
   },
   "source": [
    "df['topic'].value_counts().sort_values().plot(kind='bar')"
   ],
   "outputs": [
    {
     "data": {
      "text/plain": [
       "<Axes: xlabel='topic'>"
      ]
     },
     "execution_count": 29,
     "metadata": {},
     "output_type": "execute_result"
    },
    {
     "data": {
      "text/plain": [
       "<Figure size 640x480 with 1 Axes>"
      ],
      "image/png": "[encoded data removed]"
     },
     "metadata": {},
     "output_type": "display_data"
    }
   ],
   "execution_count": 29
  },
  {
   "metadata": {},
   "cell_type": "markdown",
   "source": "#### Lemmatization",
   "id": "35d93dbbf8ff5731"
  },
  {
   "metadata": {
    "colab": {
     "base_uri": "https://localhost:8080/"
    },
    "id": "pa7MtrGf2azy",
    "executionInfo": {
     "status": "ok",
     "timestamp": 1747327795882,
     "user_tz": -180,
     "elapsed": 3078,
     "user": {
      "displayName": "fave gacex",
      "userId": "09337749513097796277"
     }
    },
    "outputId": "eb6c9806-ba18-49ca-faf8-e4e718743fa3",
    "ExecuteTime": {
     "end_time": "2025-06-10T08:15:19.221443Z",
     "start_time": "2025-06-10T08:15:19.216295Z"
    }
   },
   "cell_type": "code",
   "source": [
    "# import spacy.cli\n",
    "# spacy.cli.download(\"ru_core_news_sm\")"
   ],
   "id": "pa7MtrGf2azy",
   "outputs": [],
   "execution_count": 30
  },
  {
   "cell_type": "code",
   "id": "31a76c92c220a406",
   "metadata": {
    "id": "31a76c92c220a406",
    "executionInfo": {
     "status": "ok",
     "timestamp": 1747327800503,
     "user_tz": -180,
     "elapsed": 1467,
     "user": {
      "displayName": "fave gacex",
      "userId": "09337749513097796277"
     }
    },
    "ExecuteTime": {
     "end_time": "2025-06-10T08:26:52.866705Z",
     "start_time": "2025-06-10T08:26:50.031635Z"
    }
   },
   "source": [
    "import spacy\n",
    "from tqdm.auto import tqdm\n",
    "\n",
    "nlp = spacy.load(\n",
    "    \"ru_core_news_sm\",\n",
    "    disable=[\"parser\", \"ner\", \"attribute_ruler\", \"tok2vec\"]\n",
    ")\n",
    "\n",
    "texts = df['text_clean'].tolist()\n",
    "titles = df['title_clean'].tolist()\n",
    "\n",
    "docs_text = nlp.pipe(texts, batch_size=20000, n_process=8)\n",
    "docs_title = nlp.pipe(titles, batch_size=20000, n_process=8)"
   ],
   "outputs": [],
   "execution_count": 35
  },
  {
   "cell_type": "code",
   "id": "61b7583a1f76b172",
   "metadata": {
    "id": "61b7583a1f76b172",
    "executionInfo": {
     "status": "ok",
     "timestamp": 1747327803171,
     "user_tz": -180,
     "elapsed": 19,
     "user": {
      "displayName": "fave gacex",
      "userId": "09337749513097796277"
     }
    },
    "ExecuteTime": {
     "end_time": "2025-06-10T08:15:38.432596Z",
     "start_time": "2025-06-10T08:15:38.427418Z"
    }
   },
   "source": [
    "def process(doc):\n",
    "    return ' '.join([tok.lemma_ for tok in doc if tok.is_alpha and not tok.is_stop])"
   ],
   "outputs": [],
   "execution_count": 32
  },
  {
   "metadata": {},
   "cell_type": "code",
   "source": "df['title_clean'] = [process(doc) for doc in tqdm(docs_title, total=df.shape[0], desc=\"Titles processing\")]",
   "id": "ab9344f7b8f0e309",
   "outputs": [],
   "execution_count": null
  },
  {
   "metadata": {},
   "cell_type": "code",
   "source": "df['text_clean'] = [process(doc) for doc in tqdm(docs_text, total=df.shape[0], desc=\"Texts processing\")]",
   "id": "c8a909dfb57f0da3",
   "outputs": [],
   "execution_count": null
  },
  {
   "metadata": {},
   "cell_type": "markdown",
   "source": [
    "#### Dataset Splitting\n",
    "\n",
    "We chronologically split into:\n",
    "- **Train**: first 90%  \n",
    "- **Validation**: next 5%  \n",
    "- **Test**: final 5%  \n",
    "\n",
    "This preserves temporal ordering to simulate real-world deployment."
   ],
   "id": "9b8a02723154f81a"
  },
  {
   "cell_type": "code",
   "id": "516d649c1c820ad4",
   "metadata": {
    "id": "516d649c1c820ad4",
    "executionInfo": {
     "status": "ok",
     "timestamp": 1747329793645,
     "user_tz": -180,
     "elapsed": 67703,
     "user": {
      "displayName": "fave gacex",
      "userId": "09337749513097796277"
     }
    },
    "ExecuteTime": {
     "end_time": "2025-06-08T18:04:33.553070Z",
     "start_time": "2025-06-08T18:04:32.805334Z"
    }
   },
   "source": [
    "df = df.sort_values('date').reset_index(drop=True)\n",
    "df = df.drop(columns=['title_len', 'text_len', 'date'])"
   ],
   "outputs": [],
   "execution_count": 44
  },
  {
   "metadata": {
    "ExecuteTime": {
     "end_time": "2025-06-08T18:04:34.773657Z",
     "start_time": "2025-06-08T18:04:34.313587Z"
    }
   },
   "cell_type": "code",
   "source": "df = df.drop(df[df.isna().any(axis=1)].index)",
   "id": "d2316c47f29f8e0d",
   "outputs": [],
   "execution_count": 45
  },
  {
   "metadata": {
    "ExecuteTime": {
     "end_time": "2025-06-08T18:04:34.785301Z",
     "start_time": "2025-06-08T18:04:34.779566Z"
    }
   },
   "cell_type": "code",
   "source": [
    "train_end = int(df.shape[0] * 0.9)\n",
    "val_end = int(df.shape[0] * 0.95)\n",
    "\n",
    "train_df = df[:train_end]\n",
    "val_df = df[train_end:val_end]\n",
    "test_df = df[val_end:]"
   ],
   "id": "ea46de04c2a2df1",
   "outputs": [],
   "execution_count": 46
  },
  {
   "metadata": {
    "ExecuteTime": {
     "end_time": "2025-06-08T18:04:35.031224Z",
     "start_time": "2025-06-08T18:04:34.899175Z"
    }
   },
   "cell_type": "code",
   "source": [
    "total_classes = df['topic'].unique().shape[0]\n",
    "\n",
    "for split_name, split_df in [('train', train_df), ('val', val_df), ('test', test_df)]:\n",
    "    vc = split_df['topic'].value_counts(normalize=True).round(4)\n",
    "    print(f\"\\n{split_name.upper()} classes distribution:\\n\", vc)\n",
    "    print(f\"All classes: {vc.shape[0] == total_classes}\")"
   ],
   "id": "56bb437d4ee4b04b",
   "outputs": [
    {
     "name": "stdout",
     "output_type": "stream",
     "text": [
      "\n",
      "TRAIN classes distribution:\n",
      " topic\n",
      "Россия               0.2201\n",
      "Мир                  0.1869\n",
      "Экономика            0.1083\n",
      "Спорт                0.0868\n",
      "Культура             0.0734\n",
      "Бывший СССР          0.0727\n",
      "Наука и техника      0.0720\n",
      "Интернет и СМИ       0.0602\n",
      "Из жизни             0.0365\n",
      "Дом                  0.0293\n",
      "Силовые структуры    0.0257\n",
      "Бизнес               0.0104\n",
      "Ценности             0.0097\n",
      "Путешествия          0.0080\n",
      "Name: proportion, dtype: float64\n",
      "All classes: True\n",
      "\n",
      "VAL classes distribution:\n",
      " topic\n",
      "Россия               0.1740\n",
      "Мир                  0.1704\n",
      "Экономика            0.1027\n",
      "Спорт                0.0848\n",
      "Наука и техника      0.0780\n",
      "Из жизни             0.0701\n",
      "Бывший СССР          0.0659\n",
      "Интернет и СМИ       0.0639\n",
      "Культура             0.0580\n",
      "Силовые структуры    0.0437\n",
      "Ценности             0.0355\n",
      "Путешествия          0.0326\n",
      "Дом                  0.0202\n",
      "Бизнес               0.0001\n",
      "Name: proportion, dtype: float64\n",
      "All classes: True\n",
      "\n",
      "TEST classes distribution:\n",
      " topic\n",
      "Мир                  0.3336\n",
      "Россия               0.1836\n",
      "Бывший СССР          0.1232\n",
      "Экономика            0.0922\n",
      "Наука и техника      0.0607\n",
      "Из жизни             0.0414\n",
      "Интернет и СМИ       0.0406\n",
      "Спорт                0.0387\n",
      "Ценности             0.0312\n",
      "Силовые структуры    0.0238\n",
      "Культура             0.0178\n",
      "Путешествия          0.0121\n",
      "Дом                  0.0005\n",
      "Бизнес               0.0004\n",
      "Name: proportion, dtype: float64\n",
      "All classes: True\n"
     ]
    }
   ],
   "execution_count": 47
  },
  {
   "metadata": {
    "ExecuteTime": {
     "end_time": "2025-06-08T18:05:50.954250Z",
     "start_time": "2025-06-08T18:05:50.947848Z"
    }
   },
   "cell_type": "code",
   "source": [
    "train_df.to_csv(DATA_DIR + '/train.csv', index=False)\n",
    "val_df.to_csv(DATA_DIR + '/val.csv', index=False)\n",
    "test_df.to_csv(DATA_DIR + '/test.csv', index=False)"
   ],
   "id": "52d36984c9b74a61",
   "outputs": [],
   "execution_count": 48
  }
 ],
 "metadata": {
  "kernelspec": {
   "display_name": "Python 3 (ipykernel)",
   "name": "python3",
   "language": "python"
  },
  "language_info": {
   "codemirror_mode": {
    "name": "ipython",
    "version": 3
   },
   "file_extension": ".py",
   "mimetype": "text/x-python",
   "name": "python",
   "nbconvert_exporter": "python",
   "pygments_lexer": "ipython3",
   "version": "3.12.3"
  },
  "colab": {
   "provenance": [],
   "machine_shape": "hm",
   "gpuType": "V28",
   "toc_visible": true
  },
  "accelerator": "TPU",
  "widgets": {
   "application/vnd.jupyter.widget-state+json": {
    "894e916bc3d540ac82f01888017abced": {
     "model_module": "@jupyter-widgets/controls",
     "model_name": "HBoxModel",
     "model_module_version": "1.5.0",
     "state": {
      "_dom_classes": [],
      "_model_module": "@jupyter-widgets/controls",
      "_model_module_version": "1.5.0",
      "_model_name": "HBoxModel",
      "_view_count": null,
      "_view_module": "@jupyter-widgets/controls",
      "_view_module_version": "1.5.0",
      "_view_name": "HBoxView",
      "box_style": "",
      "children": [
       "IPY_MODEL_6921569fd789498ebf208b0254f668da",
       "IPY_MODEL_6e784e547546412fbc44ae0785c1cebe",
       "IPY_MODEL_bd4f158177d7455a91b093a647cfc5ee"
      ],
      "layout": "IPY_MODEL_2314eb3d5e8d4859890ad2540e520fa9"
     }
    },
    "6921569fd789498ebf208b0254f668da": {
     "model_module": "@jupyter-widgets/controls",
     "model_name": "HTMLModel",
     "model_module_version": "1.5.0",
     "state": {
      "_dom_classes": [],
      "_model_module": "@jupyter-widgets/controls",
      "_model_module_version": "1.5.0",
      "_model_name": "HTMLModel",
      "_view_count": null,
      "_view_module": "@jupyter-widgets/controls",
      "_view_module_version": "1.5.0",
      "_view_name": "HTMLView",
      "description": "",
      "description_tooltip": null,
      "layout": "IPY_MODEL_498205215344469ca25bf596c177d2ce",
      "placeholder": "​",
      "style": "IPY_MODEL_e4d89b15bd4e4fc78006f2b15bcaaf7c",
      "value": "Lemmatization of titles: 100%"
     }
    },
    "6e784e547546412fbc44ae0785c1cebe": {
     "model_module": "@jupyter-widgets/controls",
     "model_name": "FloatProgressModel",
     "model_module_version": "1.5.0",
     "state": {
      "_dom_classes": [],
      "_model_module": "@jupyter-widgets/controls",
      "_model_module_version": "1.5.0",
      "_model_name": "FloatProgressModel",
      "_view_count": null,
      "_view_module": "@jupyter-widgets/controls",
      "_view_module_version": "1.5.0",
      "_view_name": "ProgressView",
      "bar_style": "success",
      "description": "",
      "description_tooltip": null,
      "layout": "IPY_MODEL_24dcbd4bf8a94265a020332d0a1a3b78",
      "max": 791882,
      "min": 0,
      "orientation": "horizontal",
      "style": "IPY_MODEL_d64d8620f72149bcacd6dde6530d7141",
      "value": 791882
     }
    },
    "bd4f158177d7455a91b093a647cfc5ee": {
     "model_module": "@jupyter-widgets/controls",
     "model_name": "HTMLModel",
     "model_module_version": "1.5.0",
     "state": {
      "_dom_classes": [],
      "_model_module": "@jupyter-widgets/controls",
      "_model_module_version": "1.5.0",
      "_model_name": "HTMLModel",
      "_view_count": null,
      "_view_module": "@jupyter-widgets/controls",
      "_view_module_version": "1.5.0",
      "_view_name": "HTMLView",
      "description": "",
      "description_tooltip": null,
      "layout": "IPY_MODEL_6449295a59bc4da1b5e383eaa58b7ab8",
      "placeholder": "​",
      "style": "IPY_MODEL_1af8ffed21d04427a73a9fdda7ec7d69",
      "value": " 791882/791882 [08:43&lt;00:00, 1879.30it/s]"
     }
    },
    "2314eb3d5e8d4859890ad2540e520fa9": {
     "model_module": "@jupyter-widgets/base",
     "model_name": "LayoutModel",
     "model_module_version": "1.2.0",
     "state": {
      "_model_module": "@jupyter-widgets/base",
      "_model_module_version": "1.2.0",
      "_model_name": "LayoutModel",
      "_view_count": null,
      "_view_module": "@jupyter-widgets/base",
      "_view_module_version": "1.2.0",
      "_view_name": "LayoutView",
      "align_content": null,
      "align_items": null,
      "align_self": null,
      "border": null,
      "bottom": null,
      "display": null,
      "flex": null,
      "flex_flow": null,
      "grid_area": null,
      "grid_auto_columns": null,
      "grid_auto_flow": null,
      "grid_auto_rows": null,
      "grid_column": null,
      "grid_gap": null,
      "grid_row": null,
      "grid_template_areas": null,
      "grid_template_columns": null,
      "grid_template_rows": null,
      "height": null,
      "justify_content": null,
      "justify_items": null,
      "left": null,
      "margin": null,
      "max_height": null,
      "max_width": null,
      "min_height": null,
      "min_width": null,
      "object_fit": null,
      "object_position": null,
      "order": null,
      "overflow": null,
      "overflow_x": null,
      "overflow_y": null,
      "padding": null,
      "right": null,
      "top": null,
      "visibility": null,
      "width": null
     }
    },
    "498205215344469ca25bf596c177d2ce": {
     "model_module": "@jupyter-widgets/base",
     "model_name": "LayoutModel",
     "model_module_version": "1.2.0",
     "state": {
      "_model_module": "@jupyter-widgets/base",
      "_model_module_version": "1.2.0",
      "_model_name": "LayoutModel",
      "_view_count": null,
      "_view_module": "@jupyter-widgets/base",
      "_view_module_version": "1.2.0",
      "_view_name": "LayoutView",
      "align_content": null,
      "align_items": null,
      "align_self": null,
      "border": null,
      "bottom": null,
      "display": null,
      "flex": null,
      "flex_flow": null,
      "grid_area": null,
      "grid_auto_columns": null,
      "grid_auto_flow": null,
      "grid_auto_rows": null,
      "grid_column": null,
      "grid_gap": null,
      "grid_row": null,
      "grid_template_areas": null,
      "grid_template_columns": null,
      "grid_template_rows": null,
      "height": null,
      "justify_content": null,
      "justify_items": null,
      "left": null,
      "margin": null,
      "max_height": null,
      "max_width": null,
      "min_height": null,
      "min_width": null,
      "object_fit": null,
      "object_position": null,
      "order": null,
      "overflow": null,
      "overflow_x": null,
      "overflow_y": null,
      "padding": null,
      "right": null,
      "top": null,
      "visibility": null,
      "width": null
     }
    },
    "e4d89b15bd4e4fc78006f2b15bcaaf7c": {
     "model_module": "@jupyter-widgets/controls",
     "model_name": "DescriptionStyleModel",
     "model_module_version": "1.5.0",
     "state": {
      "_model_module": "@jupyter-widgets/controls",
      "_model_module_version": "1.5.0",
      "_model_name": "DescriptionStyleModel",
      "_view_count": null,
      "_view_module": "@jupyter-widgets/base",
      "_view_module_version": "1.2.0",
      "_view_name": "StyleView",
      "description_width": ""
     }
    },
    "24dcbd4bf8a94265a020332d0a1a3b78": {
     "model_module": "@jupyter-widgets/base",
     "model_name": "LayoutModel",
     "model_module_version": "1.2.0",
     "state": {
      "_model_module": "@jupyter-widgets/base",
      "_model_module_version": "1.2.0",
      "_model_name": "LayoutModel",
      "_view_count": null,
      "_view_module": "@jupyter-widgets/base",
      "_view_module_version": "1.2.0",
      "_view_name": "LayoutView",
      "align_content": null,
      "align_items": null,
      "align_self": null,
      "border": null,
      "bottom": null,
      "display": null,
      "flex": null,
      "flex_flow": null,
      "grid_area": null,
      "grid_auto_columns": null,
      "grid_auto_flow": null,
      "grid_auto_rows": null,
      "grid_column": null,
      "grid_gap": null,
      "grid_row": null,
      "grid_template_areas": null,
      "grid_template_columns": null,
      "grid_template_rows": null,
      "height": null,
      "justify_content": null,
      "justify_items": null,
      "left": null,
      "margin": null,
      "max_height": null,
      "max_width": null,
      "min_height": null,
      "min_width": null,
      "object_fit": null,
      "object_position": null,
      "order": null,
      "overflow": null,
      "overflow_x": null,
      "overflow_y": null,
      "padding": null,
      "right": null,
      "top": null,
      "visibility": null,
      "width": null
     }
    },
    "d64d8620f72149bcacd6dde6530d7141": {
     "model_module": "@jupyter-widgets/controls",
     "model_name": "ProgressStyleModel",
     "model_module_version": "1.5.0",
     "state": {
      "_model_module": "@jupyter-widgets/controls",
      "_model_module_version": "1.5.0",
      "_model_name": "ProgressStyleModel",
      "_view_count": null,
      "_view_module": "@jupyter-widgets/base",
      "_view_module_version": "1.2.0",
      "_view_name": "StyleView",
      "bar_color": null,
      "description_width": ""
     }
    },
    "6449295a59bc4da1b5e383eaa58b7ab8": {
     "model_module": "@jupyter-widgets/base",
     "model_name": "LayoutModel",
     "model_module_version": "1.2.0",
     "state": {
      "_model_module": "@jupyter-widgets/base",
      "_model_module_version": "1.2.0",
      "_model_name": "LayoutModel",
      "_view_count": null,
      "_view_module": "@jupyter-widgets/base",
      "_view_module_version": "1.2.0",
      "_view_name": "LayoutView",
      "align_content": null,
      "align_items": null,
      "align_self": null,
      "border": null,
      "bottom": null,
      "display": null,
      "flex": null,
      "flex_flow": null,
      "grid_area": null,
      "grid_auto_columns": null,
      "grid_auto_flow": null,
      "grid_auto_rows": null,
      "grid_column": null,
      "grid_gap": null,
      "grid_row": null,
      "grid_template_areas": null,
      "grid_template_columns": null,
      "grid_template_rows": null,
      "height": null,
      "justify_content": null,
      "justify_items": null,
      "left": null,
      "margin": null,
      "max_height": null,
      "max_width": null,
      "min_height": null,
      "min_width": null,
      "object_fit": null,
      "object_position": null,
      "order": null,
      "overflow": null,
      "overflow_x": null,
      "overflow_y": null,
      "padding": null,
      "right": null,
      "top": null,
      "visibility": null,
      "width": null
     }
    },
    "1af8ffed21d04427a73a9fdda7ec7d69": {
     "model_module": "@jupyter-widgets/controls",
     "model_name": "DescriptionStyleModel",
     "model_module_version": "1.5.0",
     "state": {
      "_model_module": "@jupyter-widgets/controls",
      "_model_module_version": "1.5.0",
      "_model_name": "DescriptionStyleModel",
      "_view_count": null,
      "_view_module": "@jupyter-widgets/base",
      "_view_module_version": "1.2.0",
      "_view_name": "StyleView",
      "description_width": ""
     }
    },
    "e1bb863120b3489fb3592c147901eed0": {
     "model_module": "@jupyter-widgets/controls",
     "model_name": "HBoxModel",
     "model_module_version": "1.5.0",
     "state": {
      "_dom_classes": [],
      "_model_module": "@jupyter-widgets/controls",
      "_model_module_version": "1.5.0",
      "_model_name": "HBoxModel",
      "_view_count": null,
      "_view_module": "@jupyter-widgets/controls",
      "_view_module_version": "1.5.0",
      "_view_name": "HBoxView",
      "box_style": "",
      "children": [
       "IPY_MODEL_2d8ba0d4e9264c939056d2f13f973e24",
       "IPY_MODEL_6ee0168ce6ca4f59ac7feaff5dfcedab",
       "IPY_MODEL_f795f00a8d134718bf47ccc5345606e2"
      ],
      "layout": "IPY_MODEL_4961890eed1642d28282ad9cda9da926"
     }
    },
    "2d8ba0d4e9264c939056d2f13f973e24": {
     "model_module": "@jupyter-widgets/controls",
     "model_name": "HTMLModel",
     "model_module_version": "1.5.0",
     "state": {
      "_dom_classes": [],
      "_model_module": "@jupyter-widgets/controls",
      "_model_module_version": "1.5.0",
      "_model_name": "HTMLModel",
      "_view_count": null,
      "_view_module": "@jupyter-widgets/controls",
      "_view_module_version": "1.5.0",
      "_view_name": "HTMLView",
      "description": "",
      "description_tooltip": null,
      "layout": "IPY_MODEL_d729d5939f344b26aaacce0f7803b284",
      "placeholder": "​",
      "style": "IPY_MODEL_3f35bc7e70b0421792a978c4627667d2",
      "value": "Lemmatization of texts: 100%"
     }
    },
    "6ee0168ce6ca4f59ac7feaff5dfcedab": {
     "model_module": "@jupyter-widgets/controls",
     "model_name": "FloatProgressModel",
     "model_module_version": "1.5.0",
     "state": {
      "_dom_classes": [],
      "_model_module": "@jupyter-widgets/controls",
      "_model_module_version": "1.5.0",
      "_model_name": "FloatProgressModel",
      "_view_count": null,
      "_view_module": "@jupyter-widgets/controls",
      "_view_module_version": "1.5.0",
      "_view_name": "ProgressView",
      "bar_style": "success",
      "description": "",
      "description_tooltip": null,
      "layout": "IPY_MODEL_e2ccbe436bac4a268662eddc090fd8ab",
      "max": 791882,
      "min": 0,
      "orientation": "horizontal",
      "style": "IPY_MODEL_44b226123cbb4253b36c922314847d92",
      "value": 791882
     }
    },
    "f795f00a8d134718bf47ccc5345606e2": {
     "model_module": "@jupyter-widgets/controls",
     "model_name": "HTMLModel",
     "model_module_version": "1.5.0",
     "state": {
      "_dom_classes": [],
      "_model_module": "@jupyter-widgets/controls",
      "_model_module_version": "1.5.0",
      "_model_name": "HTMLModel",
      "_view_count": null,
      "_view_module": "@jupyter-widgets/controls",
      "_view_module_version": "1.5.0",
      "_view_name": "HTMLView",
      "description": "",
      "description_tooltip": null,
      "layout": "IPY_MODEL_366f5f7577c546138e053c095adb30c4",
      "placeholder": "​",
      "style": "IPY_MODEL_988d488ff71b41a7ae9c6649564c1136",
      "value": " 791882/791882 [21:11&lt;00:00, 861.88it/s]"
     }
    },
    "4961890eed1642d28282ad9cda9da926": {
     "model_module": "@jupyter-widgets/base",
     "model_name": "LayoutModel",
     "model_module_version": "1.2.0",
     "state": {
      "_model_module": "@jupyter-widgets/base",
      "_model_module_version": "1.2.0",
      "_model_name": "LayoutModel",
      "_view_count": null,
      "_view_module": "@jupyter-widgets/base",
      "_view_module_version": "1.2.0",
      "_view_name": "LayoutView",
      "align_content": null,
      "align_items": null,
      "align_self": null,
      "border": null,
      "bottom": null,
      "display": null,
      "flex": null,
      "flex_flow": null,
      "grid_area": null,
      "grid_auto_columns": null,
      "grid_auto_flow": null,
      "grid_auto_rows": null,
      "grid_column": null,
      "grid_gap": null,
      "grid_row": null,
      "grid_template_areas": null,
      "grid_template_columns": null,
      "grid_template_rows": null,
      "height": null,
      "justify_content": null,
      "justify_items": null,
      "left": null,
      "margin": null,
      "max_height": null,
      "max_width": null,
      "min_height": null,
      "min_width": null,
      "object_fit": null,
      "object_position": null,
      "order": null,
      "overflow": null,
      "overflow_x": null,
      "overflow_y": null,
      "padding": null,
      "right": null,
      "top": null,
      "visibility": null,
      "width": null
     }
    },
    "d729d5939f344b26aaacce0f7803b284": {
     "model_module": "@jupyter-widgets/base",
     "model_name": "LayoutModel",
     "model_module_version": "1.2.0",
     "state": {
      "_model_module": "@jupyter-widgets/base",
      "_model_module_version": "1.2.0",
      "_model_name": "LayoutModel",
      "_view_count": null,
      "_view_module": "@jupyter-widgets/base",
      "_view_module_version": "1.2.0",
      "_view_name": "LayoutView",
      "align_content": null,
      "align_items": null,
      "align_self": null,
      "border": null,
      "bottom": null,
      "display": null,
      "flex": null,
      "flex_flow": null,
      "grid_area": null,
      "grid_auto_columns": null,
      "grid_auto_flow": null,
      "grid_auto_rows": null,
      "grid_column": null,
      "grid_gap": null,
      "grid_row": null,
      "grid_template_areas": null,
      "grid_template_columns": null,
      "grid_template_rows": null,
      "height": null,
      "justify_content": null,
      "justify_items": null,
      "left": null,
      "margin": null,
      "max_height": null,
      "max_width": null,
      "min_height": null,
      "min_width": null,
      "object_fit": null,
      "object_position": null,
      "order": null,
      "overflow": null,
      "overflow_x": null,
      "overflow_y": null,
      "padding": null,
      "right": null,
      "top": null,
      "visibility": null,
      "width": null
     }
    },
    "3f35bc7e70b0421792a978c4627667d2": {
     "model_module": "@jupyter-widgets/controls",
     "model_name": "DescriptionStyleModel",
     "model_module_version": "1.5.0",
     "state": {
      "_model_module": "@jupyter-widgets/controls",
      "_model_module_version": "1.5.0",
      "_model_name": "DescriptionStyleModel",
      "_view_count": null,
      "_view_module": "@jupyter-widgets/base",
      "_view_module_version": "1.2.0",
      "_view_name": "StyleView",
      "description_width": ""
     }
    },
    "e2ccbe436bac4a268662eddc090fd8ab": {
     "model_module": "@jupyter-widgets/base",
     "model_name": "LayoutModel",
     "model_module_version": "1.2.0",
     "state": {
      "_model_module": "@jupyter-widgets/base",
      "_model_module_version": "1.2.0",
      "_model_name": "LayoutModel",
      "_view_count": null,
      "_view_module": "@jupyter-widgets/base",
      "_view_module_version": "1.2.0",
      "_view_name": "LayoutView",
      "align_content": null,
      "align_items": null,
      "align_self": null,
      "border": null,
      "bottom": null,
      "display": null,
      "flex": null,
      "flex_flow": null,
      "grid_area": null,
      "grid_auto_columns": null,
      "grid_auto_flow": null,
      "grid_auto_rows": null,
      "grid_column": null,
      "grid_gap": null,
      "grid_row": null,
      "grid_template_areas": null,
      "grid_template_columns": null,
      "grid_template_rows": null,
      "height": null,
      "justify_content": null,
      "justify_items": null,
      "left": null,
      "margin": null,
      "max_height": null,
      "max_width": null,
      "min_height": null,
      "min_width": null,
      "object_fit": null,
      "object_position": null,
      "order": null,
      "overflow": null,
      "overflow_x": null,
      "overflow_y": null,
      "padding": null,
      "right": null,
      "top": null,
      "visibility": null,
      "width": null
     }
    },
    "44b226123cbb4253b36c922314847d92": {
     "model_module": "@jupyter-widgets/controls",
     "model_name": "ProgressStyleModel",
     "model_module_version": "1.5.0",
     "state": {
      "_model_module": "@jupyter-widgets/controls",
      "_model_module_version": "1.5.0",
      "_model_name": "ProgressStyleModel",
      "_view_count": null,
      "_view_module": "@jupyter-widgets/base",
      "_view_module_version": "1.2.0",
      "_view_name": "StyleView",
      "bar_color": null,
      "description_width": ""
     }
    },
    "366f5f7577c546138e053c095adb30c4": {
     "model_module": "@jupyter-widgets/base",
     "model_name": "LayoutModel",
     "model_module_version": "1.2.0",
     "state": {
      "_model_module": "@jupyter-widgets/base",
      "_model_module_version": "1.2.0",
      "_model_name": "LayoutModel",
      "_view_count": null,
      "_view_module": "@jupyter-widgets/base",
      "_view_module_version": "1.2.0",
      "_view_name": "LayoutView",
      "align_content": null,
      "align_items": null,
      "align_self": null,
      "border": null,
      "bottom": null,
      "display": null,
      "flex": null,
      "flex_flow": null,
      "grid_area": null,
      "grid_auto_columns": null,
      "grid_auto_flow": null,
      "grid_auto_rows": null,
      "grid_column": null,
      "grid_gap": null,
      "grid_row": null,
      "grid_template_areas": null,
      "grid_template_columns": null,
      "grid_template_rows": null,
      "height": null,
      "justify_content": null,
      "justify_items": null,
      "left": null,
      "margin": null,
      "max_height": null,
      "max_width": null,
      "min_height": null,
      "min_width": null,
      "object_fit": null,
      "object_position": null,
      "order": null,
      "overflow": null,
      "overflow_x": null,
      "overflow_y": null,
      "padding": null,
      "right": null,
      "top": null,
      "visibility": null,
      "width": null
     }
    },
    "988d488ff71b41a7ae9c6649564c1136": {
     "model_module": "@jupyter-widgets/controls",
     "model_name": "DescriptionStyleModel",
     "model_module_version": "1.5.0",
     "state": {
      "_model_module": "@jupyter-widgets/controls",
      "_model_module_version": "1.5.0",
      "_model_name": "DescriptionStyleModel",
      "_view_count": null,
      "_view_module": "@jupyter-widgets/base",
      "_view_module_version": "1.2.0",
      "_view_name": "StyleView",
      "description_width": ""
     }
    }
   }
  }
 },
 "nbformat": 4,
 "nbformat_minor": 5
}
