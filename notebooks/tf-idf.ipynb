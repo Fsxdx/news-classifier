{
 "cells": [
  {
   "cell_type": "code",
   "id": "initial_id",
   "metadata": {
    "collapsed": true,
    "ExecuteTime": {
     "end_time": "2025-05-13T17:10:29.277737Z",
     "start_time": "2025-05-13T17:10:01.217748Z"
    }
   },
   "source": [
    "import pandas as pd\n",
    "from sklearn.pipeline import Pipeline\n",
    "from sklearn.feature_extraction.text import TfidfVectorizer\n",
    "from sklearn.linear_model import LogisticRegression\n",
    "from sklearn.metrics import classification_report\n",
    "import joblib"
   ],
   "outputs": [],
   "execution_count": 2
  },
  {
   "metadata": {
    "ExecuteTime": {
     "end_time": "2025-05-13T17:12:47.471879Z",
     "start_time": "2025-05-13T17:10:42.933491Z"
    }
   },
   "cell_type": "code",
   "source": [
    "df = pd.read_csv('../data/preprocessed.csv', parse_dates=['date'],\n",
    "                 dtype={'url': object, 'title': object, 'text': object, 'topic': object, 'title_clean': object,\n",
    "                        'text_clean': object, 'title_tokens': object, 'text_tokens': object})\n",
    "\n",
    "df = df.sort_values('date').reset_index(drop=True)"
   ],
   "id": "bed42fbddefea4ef",
   "outputs": [],
   "execution_count": 5
  },
  {
   "metadata": {
    "ExecuteTime": {
     "end_time": "2025-05-13T17:12:48.887354Z",
     "start_time": "2025-05-13T17:12:47.486785Z"
    }
   },
   "cell_type": "code",
   "source": "df = df.drop(df[df.isna().any(axis=1)].index)",
   "id": "81a597ec4952242",
   "outputs": [],
   "execution_count": 6
  },
  {
   "metadata": {
    "ExecuteTime": {
     "end_time": "2025-05-13T17:12:48.936404Z",
     "start_time": "2025-05-13T17:12:48.925056Z"
    }
   },
   "cell_type": "code",
   "source": [
    "train_end = int(df.shape[0] * 0.9)\n",
    "val_end = int(df.shape[0] * 0.95)\n",
    "\n",
    "train_df = df[:train_end]\n",
    "val_df = df[train_end:val_end]\n",
    "test_df = df[val_end:]"
   ],
   "id": "f136f12c9bfdaffc",
   "outputs": [],
   "execution_count": 7
  },
  {
   "metadata": {
    "ExecuteTime": {
     "end_time": "2025-05-13T17:12:48.986663Z",
     "start_time": "2025-05-13T17:12:48.976817Z"
    }
   },
   "cell_type": "code",
   "source": [
    "X_train, X_val, X_test = train_df['text_tokens'], val_df['text_tokens'], test_df['text_tokens']\n",
    "y_train, y_val, y_test = train_df['topic'], val_df['topic'], test_df['topic']"
   ],
   "id": "c86318b68b3bb788",
   "outputs": [],
   "execution_count": 8
  },
  {
   "metadata": {},
   "cell_type": "code",
   "source": [
    "pipeline_logreg = Pipeline([\n",
    "    ('tfidf', TfidfVectorizer(\n",
    "        max_features=20000,\n",
    "        ngram_range=(1, 2),\n",
    "        token_pattern=r'\\b\\w+\\b'\n",
    "    )),\n",
    "    ('clf', LogisticRegression(\n",
    "        solver='saga',\n",
    "        C=1.0,\n",
    "        max_iter=1000,\n",
    "        random_state=42,\n",
    "        n_jobs=-1\n",
    "    ))\n",
    "])\n",
    "\n",
    "pipeline_logreg.fit(X_train, y_train)"
   ],
   "id": "82b71a3538e76171",
   "outputs": [],
   "execution_count": null
  },
  {
   "metadata": {
    "ExecuteTime": {
     "end_time": "2025-05-12T18:57:13.372550Z",
     "start_time": "2025-05-12T18:57:13.246605Z"
    }
   },
   "cell_type": "code",
   "source": "pipeline_logreg = joblib.load('../models/tfidf_logreg_pipeline.joblib')",
   "id": "b2a29d26801bfd61",
   "outputs": [],
   "execution_count": 6
  },
  {
   "metadata": {
    "ExecuteTime": {
     "end_time": "2025-05-12T18:57:20.561686Z",
     "start_time": "2025-05-12T18:57:13.405918Z"
    }
   },
   "cell_type": "code",
   "source": [
    "y_pred = pipeline_logreg.predict(X_val)\n",
    "\n",
    "classification_report(y_val, y_pred, digits=4)"
   ],
   "id": "90caf1d3fad4213b",
   "outputs": [
    {
     "name": "stdout",
     "output_type": "stream",
     "text": [
      "                   precision    recall  f1-score   support\n",
      "\n",
      "           Бизнес     0.5440    0.4136    0.4699       926\n",
      "      Бывший СССР     0.8631    0.8393    0.8510      2471\n",
      "              Дом     0.8205    0.5850    0.6830      1453\n",
      "         Из жизни     0.4465    0.7724    0.5659      1393\n",
      "   Интернет и СМИ     0.7037    0.7331    0.7181      2488\n",
      "         Культура     0.8319    0.7774    0.8037      2502\n",
      "              Мир     0.8043    0.7899    0.7971      5370\n",
      "  Наука и техника     0.8393    0.7734    0.8050      1986\n",
      "      Путешествия     0.8940    0.5411    0.6742      1216\n",
      "           Россия     0.6340    0.8269    0.7177      6042\n",
      "Силовые структуры     0.6860    0.5118    0.5862      2757\n",
      "            Спорт     0.9622    0.9612    0.9617      3656\n",
      "         Ценности     0.9823    0.7383    0.8430      1949\n",
      "        Экономика     0.7609    0.7108    0.7350      2552\n",
      "\n",
      "         accuracy                         0.7552     36761\n",
      "        macro avg     0.7695    0.7125    0.7294     36761\n",
      "     weighted avg     0.7740    0.7552    0.7563     36761\n",
      "\n"
     ]
    }
   ],
   "execution_count": 7
  },
  {
   "metadata": {
    "ExecuteTime": {
     "end_time": "2025-05-12T20:19:13.810733Z",
     "start_time": "2025-05-12T20:19:13.801734Z"
    }
   },
   "cell_type": "code",
   "source": [
    "texts = [\n",
    "    \"Экономические итоги первого квартала перевыполнили прогнозы.\",\n",
    "    \"Новый фильм режиссёра выйдет в прокат этим летом.\"\n",
    "]\n",
    "\n",
    "predicted_topics = pipeline_logreg.predict(texts)\n",
    "predicted_topics"
   ],
   "id": "4aa642a09ecdbb93",
   "outputs": [
    {
     "data": {
      "text/plain": [
       "array(['Россия', 'Культура'], dtype=object)"
      ]
     },
     "execution_count": 44,
     "metadata": {},
     "output_type": "execute_result"
    }
   ],
   "execution_count": 44
  },
  {
   "metadata": {
    "ExecuteTime": {
     "end_time": "2025-05-12T18:57:20.852063Z",
     "start_time": "2025-05-12T18:57:20.652711Z"
    }
   },
   "cell_type": "code",
   "source": [
    "from sklearn.metrics import accuracy_score, f1_score\n",
    "\n",
    "logreg_stats = {\n",
    "        'model': 'logreg',\n",
    "        'accuracy': accuracy_score(y_val, y_pred),\n",
    "        'f1_macro': f1_score(y_val, y_pred, average='weighted'),\n",
    "    }"
   ],
   "id": "35d92a8cf6aa85e0",
   "outputs": [],
   "execution_count": 9
  },
  {
   "metadata": {
    "ExecuteTime": {
     "end_time": "2025-05-12T17:54:54.457511Z",
     "start_time": "2025-05-12T17:54:53.999256Z"
    }
   },
   "cell_type": "code",
   "source": "# joblib.dump(pipeline_logreg, '../models/tfidf_logreg_pipeline.joblib')",
   "id": "2e473006f8a6319b",
   "outputs": [
    {
     "data": {
      "text/plain": [
       "['../models/tfidf_logreg_pipeline.joblib']"
      ]
     },
     "execution_count": 25,
     "metadata": {},
     "output_type": "execute_result"
    }
   ],
   "execution_count": 25
  },
  {
   "metadata": {
    "ExecuteTime": {
     "end_time": "2025-05-12T18:59:48.938944Z",
     "start_time": "2025-05-12T18:57:20.888466Z"
    }
   },
   "cell_type": "code",
   "source": [
    "vect = pipeline_logreg.named_steps['tfidf']\n",
    "X_train_tfidf = vect.transform(X_train)\n",
    "X_val_tfidf   = vect.transform(X_val)\n",
    "X_test_tfidf  = vect.transform(X_test)"
   ],
   "id": "af7134b54c32e670",
   "outputs": [],
   "execution_count": 10
  },
  {
   "metadata": {
    "ExecuteTime": {
     "end_time": "2025-05-12T18:59:49.088268Z",
     "start_time": "2025-05-12T18:59:48.967983Z"
    }
   },
   "cell_type": "code",
   "source": [
    "from sklearn.naive_bayes import MultinomialNB\n",
    "from sklearn.svm import LinearSVC\n",
    "from sklearn.ensemble import RandomForestClassifier\n",
    "from sklearn.neighbors import KNeighborsClassifier\n",
    "\n",
    "models = {\n",
    "    'SVC': LinearSVC(C=1.0, max_iter=10000),\n",
    "    'NB': MultinomialNB(alpha=0.1),\n",
    "    'RF': RandomForestClassifier(n_estimators=200, max_depth=20, n_jobs=-1),\n",
    "    'KNN': KNeighborsClassifier(n_neighbors=5)\n",
    "}"
   ],
   "id": "7cefbd09871aaebe",
   "outputs": [],
   "execution_count": 11
  },
  {
   "metadata": {},
   "cell_type": "code",
   "source": [
    "results = []\n",
    "results.append(logreg_stats)\n",
    "\n",
    "for name, model in models.items():\n",
    "    model.fit(X_train_tfidf, y_train)\n",
    "\n",
    "    y_pred = model.predict(X_val_tfidf)\n",
    "\n",
    "    acc = accuracy_score(y_val, y_pred)\n",
    "    f1 = f1_score(y_val, y_pred, average='weighted')\n",
    "\n",
    "    results.append({\n",
    "        'model': name,\n",
    "        'accuracy': acc,\n",
    "        'f1_weighted': f1\n",
    "    })\n",
    "\n",
    "df_results = pd.DataFrame(results).sort_values('f1_weighted', ascending=False)\n",
    "df_results.sort_values('f1_weighted', ascending=False)"
   ],
   "id": "7e352ffb65fb9ee8",
   "outputs": [],
   "execution_count": null
  },
  {
   "metadata": {
    "ExecuteTime": {
     "end_time": "2025-05-12T20:02:11.544767Z",
     "start_time": "2025-05-12T20:02:11.540180Z"
    }
   },
   "cell_type": "code",
   "source": "best_model = df_results.loc[df_results['f1_weighted'].idxmax(), 'model']",
   "id": "1116e083cf0568b3",
   "outputs": [],
   "execution_count": 37
  },
  {
   "metadata": {
    "ExecuteTime": {
     "end_time": "2025-05-12T20:16:59.446638Z",
     "start_time": "2025-05-12T20:16:59.439444Z"
    }
   },
   "cell_type": "code",
   "source": [
    "best_pipeline = Pipeline([\n",
    "    ('tfidf', vect),\n",
    "    ('clf', models[best_model])\n",
    "])"
   ],
   "id": "7e4fcf6c61382dfb",
   "outputs": [],
   "execution_count": 40
  },
  {
   "metadata": {
    "ExecuteTime": {
     "end_time": "2025-05-13T17:10:29.493451Z",
     "start_time": "2025-05-13T17:10:29.310079Z"
    }
   },
   "cell_type": "code",
   "source": "# best_pipeline = joblib.load(f'../models/tfidf_svc_pipeline(best).joblib')",
   "id": "b45faee582c512c0",
   "outputs": [],
   "execution_count": 3
  },
  {
   "metadata": {
    "ExecuteTime": {
     "end_time": "2025-05-13T17:14:03.253164Z",
     "start_time": "2025-05-13T17:13:52.387575Z"
    }
   },
   "cell_type": "code",
   "source": [
    "y_pred = best_pipeline.predict(X_val)\n",
    "\n",
    "print(classification_report(y_val, y_pred, digits=4))"
   ],
   "id": "9992c86aa250c71d",
   "outputs": [
    {
     "name": "stdout",
     "output_type": "stream",
     "text": [
      "                   precision    recall  f1-score   support\n",
      "\n",
      "           Бизнес     0.5071    0.4622    0.4836       926\n",
      "      Бывший СССР     0.8525    0.8539    0.8532      2471\n",
      "              Дом     0.8035    0.5712    0.6677      1453\n",
      "         Из жизни     0.4713    0.7365    0.5748      1393\n",
      "   Интернет и СМИ     0.6978    0.7436    0.7200      2488\n",
      "         Культура     0.8329    0.8010    0.8166      2502\n",
      "              Мир     0.8057    0.7912    0.7984      5370\n",
      "  Наука и техника     0.8458    0.7679    0.8050      1986\n",
      "      Путешествия     0.8517    0.5855    0.6940      1216\n",
      "           Россия     0.6442    0.8130    0.7188      6042\n",
      "Силовые структуры     0.6696    0.5183    0.5843      2757\n",
      "            Спорт     0.9608    0.9664    0.9636      3656\n",
      "         Ценности     0.9708    0.7686    0.8580      1949\n",
      "        Экономика     0.7714    0.6900    0.7284      2552\n",
      "\n",
      "         accuracy                         0.7581     36761\n",
      "        macro avg     0.7632    0.7192    0.7333     36761\n",
      "     weighted avg     0.7719    0.7581    0.7589     36761\n",
      "\n"
     ]
    }
   ],
   "execution_count": 11
  },
  {
   "metadata": {
    "ExecuteTime": {
     "end_time": "2025-05-12T20:17:56.966896Z",
     "start_time": "2025-05-12T20:17:56.650146Z"
    }
   },
   "cell_type": "code",
   "source": "joblib.dump(best_pipeline, f'../models/tfidf_{best_model.lower()}_pipeline(best).joblib')",
   "id": "191ca827b0a6a846",
   "outputs": [
    {
     "data": {
      "text/plain": [
       "['../models/tfidf_svc_pipeline(best).joblib']"
      ]
     },
     "execution_count": 42,
     "metadata": {},
     "output_type": "execute_result"
    }
   ],
   "execution_count": 42
  },
  {
   "metadata": {},
   "cell_type": "code",
   "outputs": [],
   "execution_count": null,
   "source": "",
   "id": "5f235cd090421a6e"
  }
 ],
 "metadata": {
  "kernelspec": {
   "display_name": "Python 3",
   "language": "python",
   "name": "python3"
  },
  "language_info": {
   "codemirror_mode": {
    "name": "ipython",
    "version": 2
   },
   "file_extension": ".py",
   "mimetype": "text/x-python",
   "name": "python",
   "nbconvert_exporter": "python",
   "pygments_lexer": "ipython2",
   "version": "2.7.6"
  }
 },
 "nbformat": 4,
 "nbformat_minor": 5
}
