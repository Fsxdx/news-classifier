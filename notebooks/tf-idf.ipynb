{
 "cells": [
  {
   "cell_type": "code",
   "id": "initial_id",
   "metadata": {
    "collapsed": true,
    "ExecuteTime": {
     "end_time": "2025-05-16T19:05:35.723588Z",
     "start_time": "2025-05-16T19:05:33.877369Z"
    }
   },
   "source": [
    "import pandas as pd\n",
    "from sklearn.pipeline import Pipeline\n",
    "from sklearn.feature_extraction.text import TfidfVectorizer\n",
    "from sklearn.linear_model import LogisticRegression\n",
    "from sklearn.metrics import classification_report, accuracy_score, f1_score\n",
    "from sklearn.model_selection import GridSearchCV\n",
    "import joblib"
   ],
   "outputs": [],
   "execution_count": 4
  },
  {
   "metadata": {
    "ExecuteTime": {
     "end_time": "2025-05-16T19:06:27.922138Z",
     "start_time": "2025-05-16T19:05:42.581648Z"
    }
   },
   "cell_type": "code",
   "source": [
    "fields = ['text_clean', 'topic']\n",
    "\n",
    "train_df = pd.read_csv('../data/train.csv',\n",
    "                       dtype={'topic': object,\n",
    "                              'text_clean': object},\n",
    "                       usecols=fields)\n",
    "val_df = pd.read_csv('../data/val.csv',\n",
    "                     dtype={'topic': object,\n",
    "                            'text_clean': object},\n",
    "                     usecols=fields)\n",
    "test_df = pd.read_csv('../data/test.csv',\n",
    "                      dtype={'topic': object,\n",
    "                             'text_clean': object},\n",
    "                      usecols=fields)"
   ],
   "id": "bed42fbddefea4ef",
   "outputs": [],
   "execution_count": 7
  },
  {
   "metadata": {
    "ExecuteTime": {
     "end_time": "2025-05-16T19:06:27.933023Z",
     "start_time": "2025-05-16T19:06:27.923888Z"
    }
   },
   "cell_type": "code",
   "source": [
    "X_train, X_val, X_test = train_df['text_clean'], val_df['text_clean'], test_df['text_clean']\n",
    "y_train, y_val, y_test = train_df['topic'], val_df['topic'], test_df['topic']"
   ],
   "id": "c86318b68b3bb788",
   "outputs": [],
   "execution_count": 8
  },
  {
   "metadata": {
    "ExecuteTime": {
     "end_time": "2025-05-16T17:41:50.534160Z",
     "start_time": "2025-05-16T17:34:53.986105Z"
    }
   },
   "cell_type": "code",
   "source": [
    "vect = TfidfVectorizer(\n",
    "    max_features=20000,\n",
    "    ngram_range=(1, 2),\n",
    "    token_pattern=r'\\b\\w+\\b'\n",
    ")\n",
    "X_train_tfidf = vect.fit_transform(X_train)\n",
    "X_val_tfidf = vect.transform(X_val)\n",
    "X_test_tfidf = vect.transform(X_test)"
   ],
   "id": "af7134b54c32e670",
   "outputs": [],
   "execution_count": 4
  },
  {
   "metadata": {
    "ExecuteTime": {
     "end_time": "2025-05-16T17:41:50.814250Z",
     "start_time": "2025-05-16T17:41:50.555112Z"
    }
   },
   "cell_type": "code",
   "source": [
    "from sklearn.naive_bayes import MultinomialNB\n",
    "from sklearn.svm import LinearSVC\n",
    "from sklearn.ensemble import RandomForestClassifier\n",
    "from sklearn.neighbors import KNeighborsClassifier\n",
    "\n",
    "models = {\n",
    "    'LogReg': LogisticRegression(solver='saga', C=1.0, max_iter=1000, random_state=42, n_jobs=-1),\n",
    "    'SVC': LinearSVC(C=1.0, max_iter=10000),\n",
    "    'NB': MultinomialNB(alpha=0.1),\n",
    "    'RF': RandomForestClassifier(n_estimators=200, max_depth=20, n_jobs=-1),\n",
    "    'KNN': KNeighborsClassifier(n_neighbors=5)\n",
    "}"
   ],
   "id": "7cefbd09871aaebe",
   "outputs": [],
   "execution_count": 5
  },
  {
   "metadata": {
    "ExecuteTime": {
     "end_time": "2025-05-16T18:35:13.739326Z",
     "start_time": "2025-05-16T17:41:50.831391Z"
    }
   },
   "cell_type": "code",
   "source": [
    "results = []\n",
    "best_models = {}\n",
    "\n",
    "for name, model in models.items():\n",
    "    print(f'fitting {name}')\n",
    "    model.fit(X_train_tfidf, y_train)\n",
    "    y_pred = model.predict(X_val_tfidf)\n",
    "\n",
    "    acc = accuracy_score(y_val, y_pred)\n",
    "    f1_macro = f1_score(y_val, y_pred, average='macro')\n",
    "    f1_weighted = f1_score(y_val, y_pred, average='weighted')\n",
    "\n",
    "    results.append({\n",
    "        'model': name,\n",
    "        'accuracy': acc,\n",
    "        'f1_macro': f1_macro,\n",
    "        'f1_weighted': f1_weighted\n",
    "    })\n",
    "\n",
    "df_results = pd.DataFrame(results).sort_values('f1_macro', ascending=False)\n",
    "df_results.sort_values('f1_macro', ascending=False)"
   ],
   "id": "7e352ffb65fb9ee8",
   "outputs": [
    {
     "name": "stdout",
     "output_type": "stream",
     "text": [
      "fitting LogReg\n",
      "fitting SVC\n",
      "fitting NB\n",
      "fitting RF\n",
      "fitting KNN\n"
     ]
    },
    {
     "data": {
      "text/plain": [
       "    model  accuracy  f1_macro\n",
       "0  LogReg  0.734386  0.667077\n",
       "1     SVC  0.728400  0.666139\n",
       "2      NB  0.663367  0.591631\n",
       "3      RF  0.450309  0.305026\n",
       "4     KNN  0.147317  0.101493"
      ],
      "text/html": [
       "<div>\n",
       "<style scoped>\n",
       "    .dataframe tbody tr th:only-of-type {\n",
       "        vertical-align: middle;\n",
       "    }\n",
       "\n",
       "    .dataframe tbody tr th {\n",
       "        vertical-align: top;\n",
       "    }\n",
       "\n",
       "    .dataframe thead th {\n",
       "        text-align: right;\n",
       "    }\n",
       "</style>\n",
       "<table border=\"1\" class=\"dataframe\">\n",
       "  <thead>\n",
       "    <tr style=\"text-align: right;\">\n",
       "      <th></th>\n",
       "      <th>model</th>\n",
       "      <th>accuracy</th>\n",
       "      <th>f1_macro</th>\n",
       "    </tr>\n",
       "  </thead>\n",
       "  <tbody>\n",
       "    <tr>\n",
       "      <th>0</th>\n",
       "      <td>LogReg</td>\n",
       "      <td>0.734386</td>\n",
       "      <td>0.667077</td>\n",
       "    </tr>\n",
       "    <tr>\n",
       "      <th>1</th>\n",
       "      <td>SVC</td>\n",
       "      <td>0.728400</td>\n",
       "      <td>0.666139</td>\n",
       "    </tr>\n",
       "    <tr>\n",
       "      <th>2</th>\n",
       "      <td>NB</td>\n",
       "      <td>0.663367</td>\n",
       "      <td>0.591631</td>\n",
       "    </tr>\n",
       "    <tr>\n",
       "      <th>3</th>\n",
       "      <td>RF</td>\n",
       "      <td>0.450309</td>\n",
       "      <td>0.305026</td>\n",
       "    </tr>\n",
       "    <tr>\n",
       "      <th>4</th>\n",
       "      <td>KNN</td>\n",
       "      <td>0.147317</td>\n",
       "      <td>0.101493</td>\n",
       "    </tr>\n",
       "  </tbody>\n",
       "</table>\n",
       "</div>"
      ]
     },
     "execution_count": 6,
     "metadata": {},
     "output_type": "execute_result"
    }
   ],
   "execution_count": 6
  },
  {
   "metadata": {
    "ExecuteTime": {
     "end_time": "2025-05-16T18:35:33.481686Z",
     "start_time": "2025-05-16T18:35:33.476058Z"
    }
   },
   "cell_type": "code",
   "source": "best_model = df_results.loc[df_results['f1_macro'].idxmax(), 'model']",
   "id": "1116e083cf0568b3",
   "outputs": [],
   "execution_count": 9
  },
  {
   "metadata": {
    "ExecuteTime": {
     "end_time": "2025-05-16T18:35:34.607900Z",
     "start_time": "2025-05-16T18:35:34.588715Z"
    }
   },
   "cell_type": "code",
   "source": [
    "best_pipeline = Pipeline([\n",
    "    ('tfidf', vect),\n",
    "    ('clf', models[best_model])\n",
    "])"
   ],
   "id": "7e4fcf6c61382dfb",
   "outputs": [],
   "execution_count": 10
  },
  {
   "metadata": {
    "ExecuteTime": {
     "end_time": "2025-05-16T18:35:35.890921Z",
     "start_time": "2025-05-16T18:35:35.880618Z"
    }
   },
   "cell_type": "code",
   "source": [
    "texts = [\n",
    "    \"Экономические итоги первого квартала перевыполнили прогнозы.\",\n",
    "    \"Новый фильм режиссёра выйдет в прокат этим летом.\"\n",
    "]\n",
    "\n",
    "predicted_topics = best_pipeline.predict(texts)\n",
    "predicted_topics"
   ],
   "id": "ae7cb8ecdea07403",
   "outputs": [
    {
     "data": {
      "text/plain": [
       "array(['Россия', 'Культура'], dtype=object)"
      ]
     },
     "execution_count": 11,
     "metadata": {},
     "output_type": "execute_result"
    }
   ],
   "execution_count": 11
  },
  {
   "metadata": {
    "ExecuteTime": {
     "end_time": "2025-05-16T19:05:37.271684Z",
     "start_time": "2025-05-16T19:05:37.065050Z"
    }
   },
   "cell_type": "code",
   "source": "best_pipeline = joblib.load(f'../models/tfidf_logreg_pipeline(best).joblib')",
   "id": "b45faee582c512c0",
   "outputs": [],
   "execution_count": 5
  },
  {
   "metadata": {
    "ExecuteTime": {
     "end_time": "2025-05-16T19:09:33.948838Z",
     "start_time": "2025-05-16T19:09:26.178109Z"
    }
   },
   "cell_type": "code",
   "source": [
    "y_pred = best_pipeline.predict(X_test)\n",
    "\n",
    "print(classification_report(y_test, y_pred, digits=4))"
   ],
   "id": "9992c86aa250c71d",
   "outputs": [
    {
     "name": "stdout",
     "output_type": "stream",
     "text": [
      "                   precision    recall  f1-score   support\n",
      "\n",
      "           Бизнес     0.0000    0.0000    0.0000         4\n",
      "      Бывший СССР     0.7824    0.7827    0.7825      2609\n",
      "              Дом     0.8299    0.7625    0.7948       800\n",
      "         Из жизни     0.5676    0.8189    0.6705      2777\n",
      "   Интернет и СМИ     0.6220    0.6223    0.6222      2531\n",
      "         Культура     0.8434    0.7876    0.8146      2298\n",
      "              Мир     0.7685    0.7931    0.7806      6746\n",
      "  Наука и техника     0.7655    0.7764    0.7709      3090\n",
      "      Путешествия     0.9125    0.4121    0.5678      1291\n",
      "           Россия     0.6415    0.7207    0.6788      6891\n",
      "Силовые структуры     0.5395    0.3991    0.4588      1729\n",
      "            Спорт     0.9399    0.9443    0.9421      3359\n",
      "         Ценности     0.9499    0.5260    0.6770      1405\n",
      "        Экономика     0.8503    0.7181    0.7786      4065\n",
      "\n",
      "         accuracy                         0.7344     39595\n",
      "        macro avg     0.7152    0.6474    0.6671     39595\n",
      "     weighted avg     0.7532    0.7344    0.7354     39595\n",
      "\n"
     ]
    }
   ],
   "execution_count": 12
  },
  {
   "metadata": {
    "ExecuteTime": {
     "end_time": "2025-05-16T18:38:42.107085Z",
     "start_time": "2025-05-16T18:38:41.717768Z"
    }
   },
   "cell_type": "code",
   "source": "joblib.dump(best_pipeline, f'../models/tfidf_{best_model.lower()}_pipeline(best).joblib')",
   "id": "191ca827b0a6a846",
   "outputs": [
    {
     "data": {
      "text/plain": [
       "['../models/tfidf_logreg_pipeline(best).joblib']"
      ]
     },
     "execution_count": 17,
     "metadata": {},
     "output_type": "execute_result"
    }
   ],
   "execution_count": 17
  },
  {
   "metadata": {},
   "cell_type": "code",
   "outputs": [],
   "execution_count": null,
   "source": "",
   "id": "5f235cd090421a6e"
  }
 ],
 "metadata": {
  "kernelspec": {
   "display_name": "Python 3",
   "language": "python",
   "name": "python3"
  },
  "language_info": {
   "codemirror_mode": {
    "name": "ipython",
    "version": 2
   },
   "file_extension": ".py",
   "mimetype": "text/x-python",
   "name": "python",
   "nbconvert_exporter": "python",
   "pygments_lexer": "ipython2",
   "version": "2.7.6"
  }
 },
 "nbformat": 4,
 "nbformat_minor": 5
}
