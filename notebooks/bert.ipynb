{
 "cells": [
  {
   "cell_type": "code",
   "execution_count": 1,
   "metadata": {
    "id": "W2zxPiwJYUjm"
   },
   "outputs": [],
   "source": [
    "%%capture\n",
    "!pip install datasets\n",
    "!pip install 'numpy < 2.0'"
   ]
  },
  {
   "cell_type": "code",
   "metadata": {
    "id": "iFFvMOZJ4THs",
    "ExecuteTime": {
     "end_time": "2025-05-16T13:34:43.952013Z",
     "start_time": "2025-05-16T13:34:34.010649Z"
    }
   },
   "source": [
    "import pandas as pd\n",
    "import numpy as np\n",
    "from transformers import AutoTokenizer, AutoModelForSequenceClassification, Trainer, TrainingArguments\n",
    "from datasets import Dataset\n",
    "import multiprocessing\n",
    "import torch\n",
    "from torch import nn\n",
    "# import torch_xla.core.xla_model as xm\n",
    "from datasets import Dataset, Features, ClassLabel, Value, load_from_disk"
   ],
   "outputs": [],
   "execution_count": 1
  },
  {
   "cell_type": "code",
   "execution_count": 2,
   "metadata": {
    "colab": {
     "base_uri": "https://localhost:8080/"
    },
    "id": "tgcX7pKfX30W",
    "outputId": "348f34b2-a9f8-400a-b050-13a550eed8b6"
   },
   "outputs": [
    {
     "output_type": "stream",
     "name": "stdout",
     "text": [
      "Drive already mounted at /content/drive; to attempt to forcibly remount, call drive.mount(\"/content/drive\", force_remount=True).\n"
     ]
    }
   ],
   "source": [
    "from google.colab import drive\n",
    "\n",
    "drive.mount('/content/drive')"
   ]
  },
  {
   "metadata": {
    "id": "Wih5eGnE5JBU",
    "ExecuteTime": {
     "end_time": "2025-05-16T13:35:35.963454Z",
     "start_time": "2025-05-16T13:34:43.974091Z"
    }
   },
   "cell_type": "code",
   "source": [
    "fields = ['text', 'topic']\n",
    "\n",
    "train_df = pd.read_csv('../data/train.csv',\n",
    "                       dtype={'topic': object,\n",
    "                              'text_clean': object},\n",
    "                       usecols=fields)\n",
    "val_df = pd.read_csv('../data/val.csv',\n",
    "                     dtype={'topic': object,\n",
    "                            'text_clean': object},\n",
    "                     usecols=fields)\n",
    "test_df = pd.read_csv('../data/test.csv',\n",
    "                      dtype={'topic': object,\n",
    "                             'text_clean': object},\n",
    "                      usecols=fields)"
   ],
   "outputs": [],
   "execution_count": 2
  },
  {
   "cell_type": "code",
   "execution_count": null,
   "metadata": {
    "id": "7E75YgFlZk39"
   },
   "outputs": [],
   "source": [
    "# from sklearn.utils import resample\n",
    "\n",
    "# max_count = train_df['topic'].value_counts().max()\n",
    "# balanced = []\n",
    "# for label, grp in train_df.groupby('topic'):\n",
    "#     if len(grp) < max_count:\n",
    "#         ups = resample(grp, replace=True, n_samples=max_count, random_state=42)\n",
    "#         balanced.append(ups)\n",
    "#     else:\n",
    "#         balanced.append(grp)"
   ]
  },
  {
   "cell_type": "code",
   "execution_count": null,
   "metadata": {
    "id": "7RxaTM4EZl3F"
   },
   "outputs": [],
   "source": [
    "# train_df = pd.concat(balanced).sample(frac=1, random_state=42).reset_index(drop=True)"
   ]
  },
  {
   "cell_type": "code",
   "metadata": {
    "id": "OTQA3kBI5TFs",
    "ExecuteTime": {
     "end_time": "2025-05-16T13:35:36.728590Z",
     "start_time": "2025-05-16T13:35:36.215573Z"
    }
   },
   "source": [
    "model_name = 'DeepPavlov/rubert-base-cased'\n",
    "tokenizer = AutoTokenizer.from_pretrained(model_name)"
   ],
   "outputs": [],
   "execution_count": 4
  },
  {
   "cell_type": "code",
   "metadata": {
    "id": "vOHP5RygceTA",
    "ExecuteTime": {
     "end_time": "2025-05-16T12:35:09.569291Z",
     "start_time": "2025-05-16T12:35:09.561843Z"
    }
   },
   "source": "num_cores = multiprocessing.cpu_count()",
   "outputs": [],
   "execution_count": 5
  },
  {
   "cell_type": "code",
   "metadata": {
    "id": "8Mg62Fg3gJ8s",
    "ExecuteTime": {
     "end_time": "2025-05-16T13:35:36.834600Z",
     "start_time": "2025-05-16T13:35:36.764879Z"
    }
   },
   "source": [
    "unique_labels = sorted(train_df['topic'].unique())\n",
    "\n",
    "features = Features({\n",
    "    'text': Value('string'),\n",
    "    'topic': ClassLabel(names=unique_labels)\n",
    "})"
   ],
   "outputs": [],
   "execution_count": 5
  },
  {
   "cell_type": "code",
   "metadata": {
    "id": "T77eFuT35cLg"
   },
   "source": [
    "def tokenize_batch(batch):\n",
    "    toks = tokenizer(\n",
    "        batch['text'],\n",
    "        truncation=True,\n",
    "        padding='max_length',\n",
    "        max_length=512\n",
    "    )\n",
    "    toks['labels'] = batch['topic']\n",
    "    return toks\n",
    "\n",
    "\n",
    "train_ds = Dataset.from_pandas(train_df, features=features)\n",
    "val_ds = Dataset.from_pandas(val_df, features=features)\n",
    "test_ds = Dataset.from_pandas(test_df, features=features)\n",
    "\n",
    "train_ds = train_ds.map(tokenize_batch,\n",
    "                        batched=True,\n",
    "                        remove_columns=train_df.columns.tolist())\n",
    "val_ds = val_ds.map(tokenize_batch,\n",
    "                    batched=True,\n",
    "                    remove_columns=val_df.columns.tolist())\n",
    "test_ds = test_ds.map(tokenize_batch,\n",
    "                      batched=True,\n",
    "                      remove_columns=test_df.columns.tolist())\n",
    "\n",
    "train_ds.set_format('torch')\n",
    "val_ds.set_format('torch')\n",
    "test_ds.set_format('torch')"
   ],
   "outputs": [],
   "execution_count": null
  },
  {
   "cell_type": "code",
   "metadata": {
    "id": "3t2glI0Quoyy"
   },
   "source": [
    "train_ds.save_to_disk('/content/drive/MyDrive/data/train_ds.hf')\n",
    "val_ds.save_to_disk('/content/drive/MyDrive/data/val_ds.hf')\n",
    "test_ds.save_to_disk('/content/drive/MyDrive/data/test_ds.hf')"
   ],
   "outputs": [],
   "execution_count": null
  },
  {
   "cell_type": "code",
   "metadata": {
    "colab": {
     "base_uri": "https://localhost:8080/"
    },
    "id": "FrkabpYQvdVW",
    "outputId": "74220a12-fa8d-469a-8a53-ed45cc7b43b7"
   },
   "source": [
    "# train_ds = load_from_disk('/content/drive/MyDrive/data/train_ds.hf')\n",
    "# val_ds = load_from_disk('/content/drive/MyDrive/data/val_ds.hf')\n",
    "# test_ds = load_from_disk('/content/drive/MyDrive/data/test_ds.hf')"
   ],
   "outputs": [],
   "execution_count": null
  },
  {
   "cell_type": "code",
   "metadata": {
    "colab": {
     "base_uri": "https://localhost:8080/"
    },
    "id": "jnfhxqhDY46S",
    "outputId": "5403bddd-e676-40c2-9f6b-7b69df4a8f43"
   },
   "source": [
    "total_classes = train_df['topic'].nunique()  # in case previous cell wasn't launched\n",
    "\n",
    "model = AutoModelForSequenceClassification.from_pretrained(\n",
    "    model_name,\n",
    "    num_labels=total_classes,\n",
    "    problem_type=\"single_label_classification\"\n",
    ")"
   ],
   "outputs": [],
   "execution_count": null
  },
  {
   "cell_type": "code",
   "metadata": {
    "id": "FZ50M720BUi3",
    "ExecuteTime": {
     "end_time": "2025-05-16T13:36:18.744729Z",
     "start_time": "2025-05-16T13:36:16.934162Z"
    }
   },
   "source": "device = torch.device(\"cuda\" if torch.cuda.is_available() else \"cpu\")",
   "outputs": [],
   "execution_count": 8
  },
  {
   "cell_type": "code",
   "execution_count": 14,
   "metadata": {
    "id": "FDk5pG1Cj8Id"
   },
   "outputs": [],
   "source": [
    "total_samples = train_df.shape[0]\n",
    "vc = train_df['topic'].value_counts()\n",
    "\n",
    "class_weights = torch.tensor([\n",
    "    total_samples / (total_classes * count)\n",
    "    for count in train_df['topic'].value_counts().sort_index()\n",
    "], device=device)\n",
    "\n",
    "loss_fn = nn.CrossEntropyLoss(weight=class_weights)"
   ]
  },
  {
   "cell_type": "code",
   "execution_count": 21,
   "metadata": {
    "id": "sulabKN9HMC0"
   },
   "outputs": [],
   "source": [
    "class WeightedTrainer(Trainer):\n",
    "    def __init__(self, *args, loss_fn=None, **kwargs):\n",
    "        super().__init__(*args, **kwargs)\n",
    "        if loss_fn is None:\n",
    "            raise ValueError(\"Pass your weighted loss via `loss_fn`\")\n",
    "        self.loss_fn = loss_fn\n",
    "\n",
    "    def compute_loss(self, model, inputs, return_outputs=False, **kwargs):\n",
    "        labels = inputs.pop(\"labels\")\n",
    "        outputs = model(**inputs)\n",
    "        logits = outputs.logits\n",
    "        weight = self.loss_fn.weight.to(logits.dtype)\n",
    "        loss_fn = nn.CrossEntropyLoss(weight=weight)\n",
    "        loss = loss_fn(logits, labels)\n",
    "        return (loss, outputs) if return_outputs else loss"
   ]
  },
  {
   "cell_type": "code",
   "metadata": {
    "colab": {
     "base_uri": "https://localhost:8080/",
     "height": 1000
    },
    "id": "nK_hVypcjHls",
    "outputId": "0dcf1342-0a6c-4c08-8480-ddadf5055f8d"
   },
   "source": [
    "training_args = TrainingArguments(\n",
    "    output_dir='out',\n",
    "    per_device_train_batch_size=8,\n",
    "    per_device_eval_batch_size=8,\n",
    "    num_train_epochs=3,\n",
    "    learning_rate=2e-5,\n",
    "    logging_dir='./logs',\n",
    "    logging_steps=1000,\n",
    "    report_to='none',\n",
    "    fp16=True,\n",
    "    save_total_limit=10\n",
    ")\n",
    "\n",
    "trainer = WeightedTrainer(\n",
    "    model=model,\n",
    "    args=training_args,\n",
    "    train_dataset=train_ds,\n",
    "    eval_dataset=val_ds,\n",
    "    tokenizer=tokenizer,\n",
    "    loss_fn=loss_fn,\n",
    "\n",
    ")\n",
    "\n",
    "trainer.train()"
   ],
   "outputs": [],
   "execution_count": null
  },
  {
   "cell_type": "code",
   "metadata": {
    "colab": {
     "base_uri": "https://localhost:8080/",
     "height": 1000
    },
    "collapsed": true,
    "id": "0I6-0ivT0yaq",
    "outputId": "b1551e1a-7697-4123-c2e2-2c3e173b4e87"
   },
   "source": [
    "# trainer.train(resume_from_checkpoint=True)"
   ],
   "outputs": [],
   "execution_count": null
  },
  {
   "cell_type": "code",
   "execution_count": 23,
   "metadata": {
    "colab": {
     "base_uri": "https://localhost:8080/"
    },
    "id": "3gZJzpiLlpAo",
    "outputId": "dbd60077-3e51-4344-f902-55c00ce387fb"
   },
   "outputs": [
    {
     "output_type": "execute_result",
     "data": {
      "text/plain": [
       "BertForSequenceClassification(\n",
       "  (bert): BertModel(\n",
       "    (embeddings): BertEmbeddings(\n",
       "      (word_embeddings): Embedding(119547, 768, padding_idx=0)\n",
       "      (position_embeddings): Embedding(512, 768)\n",
       "      (token_type_embeddings): Embedding(2, 768)\n",
       "      (LayerNorm): LayerNorm((768,), eps=1e-12, elementwise_affine=True)\n",
       "      (dropout): Dropout(p=0.1, inplace=False)\n",
       "    )\n",
       "    (encoder): BertEncoder(\n",
       "      (layer): ModuleList(\n",
       "        (0-11): 12 x BertLayer(\n",
       "          (attention): BertAttention(\n",
       "            (self): BertSdpaSelfAttention(\n",
       "              (query): Linear(in_features=768, out_features=768, bias=True)\n",
       "              (key): Linear(in_features=768, out_features=768, bias=True)\n",
       "              (value): Linear(in_features=768, out_features=768, bias=True)\n",
       "              (dropout): Dropout(p=0.1, inplace=False)\n",
       "            )\n",
       "            (output): BertSelfOutput(\n",
       "              (dense): Linear(in_features=768, out_features=768, bias=True)\n",
       "              (LayerNorm): LayerNorm((768,), eps=1e-12, elementwise_affine=True)\n",
       "              (dropout): Dropout(p=0.1, inplace=False)\n",
       "            )\n",
       "          )\n",
       "          (intermediate): BertIntermediate(\n",
       "            (dense): Linear(in_features=768, out_features=3072, bias=True)\n",
       "            (intermediate_act_fn): GELUActivation()\n",
       "          )\n",
       "          (output): BertOutput(\n",
       "            (dense): Linear(in_features=3072, out_features=768, bias=True)\n",
       "            (LayerNorm): LayerNorm((768,), eps=1e-12, elementwise_affine=True)\n",
       "            (dropout): Dropout(p=0.1, inplace=False)\n",
       "          )\n",
       "        )\n",
       "      )\n",
       "    )\n",
       "    (pooler): BertPooler(\n",
       "      (dense): Linear(in_features=768, out_features=768, bias=True)\n",
       "      (activation): Tanh()\n",
       "    )\n",
       "  )\n",
       "  (dropout): Dropout(p=0.1, inplace=False)\n",
       "  (classifier): Linear(in_features=768, out_features=14, bias=True)\n",
       ")"
      ]
     },
     "metadata": {},
     "execution_count": 23
    }
   ],
   "source": [
    "model.eval()"
   ]
  },
  {
   "cell_type": "code",
   "execution_count": 24,
   "metadata": {
    "id": "N7msrJzW00t_"
   },
   "outputs": [],
   "source": [
    "def predict_one(text: str):\n",
    "    inputs = tokenizer(\n",
    "        text,\n",
    "        truncation=True,\n",
    "        padding='max_length',\n",
    "        max_length=512,\n",
    "        return_tensors='pt'\n",
    "    )\n",
    "    return inputs"
   ]
  },
  {
   "cell_type": "code",
   "execution_count": 25,
   "metadata": {
    "id": "Yj6stcla0QZ9"
   },
   "outputs": [],
   "source": [
    "def classify(text: str):\n",
    "    inputs = predict_one(text).to(device)\n",
    "    with torch.no_grad():\n",
    "        outputs = model(**inputs)\n",
    "        logits = outputs.logits\n",
    "        probs = nn.functional.softmax(logits, dim=-1)\n",
    "        pred_idx = torch.argmax(probs, dim=-1).item()\n",
    "        confidence = probs[0, pred_idx].item()\n",
    "    return pred_idx, confidence, probs.squeeze().tolist()"
   ]
  },
  {
   "cell_type": "code",
   "execution_count": 26,
   "metadata": {
    "colab": {
     "base_uri": "https://localhost:8080/"
    },
    "id": "uW2WOTQix-OQ",
    "outputId": "bc03fba4-5172-4517-e534-3fb59ed5a9b4"
   },
   "outputs": [
    {
     "output_type": "execute_result",
     "data": {
      "text/plain": [
       "['Экономика', 'Культура']"
      ]
     },
     "metadata": {},
     "execution_count": 26
    }
   ],
   "source": [
    "texts = [\n",
    "    \"Экономические итоги первого квартала перевыполнили прогнозы.\",\n",
    "    \"Новый фильм режиссёра выйдет в прокат этим летом.\"\n",
    "]\n",
    "[unique_labels[classify(text)[0]] for text in texts]"
   ]
  },
  {
   "cell_type": "code",
   "execution_count": 27,
   "metadata": {
    "id": "sBCohEcShcBb"
   },
   "outputs": [],
   "source": [
    "trainer.save_model(\"/content/drive/MyDrive/models/bert\")"
   ]
  },
  {
   "cell_type": "code",
   "metadata": {
    "id": "XwDAC1bvhHSv",
    "ExecuteTime": {
     "end_time": "2025-05-16T13:49:02.664102Z",
     "start_time": "2025-05-16T13:49:01.669462Z"
    }
   },
   "source": [
    "from transformers import AutoModelForSequenceClassification, AutoTokenizer\n",
    "\n",
    "model = AutoModelForSequenceClassification.from_pretrained(\"/content/drive/MyDrive/models/bert\").to(device)\n",
    "tokenizer = AutoTokenizer.from_pretrained(\"/content/drive/MyDrive/models/bert\")"
   ],
   "outputs": [],
   "execution_count": 14
  },
  {
   "cell_type": "code",
   "metadata": {
    "id": "HtolCDTCl1pc",
    "ExecuteTime": {
     "end_time": "2025-05-16T13:49:08.214528Z",
     "start_time": "2025-05-16T13:49:08.209192Z"
    }
   },
   "source": [
    "from torch.utils.data import DataLoader\n",
    "\n",
    "val_loader = DataLoader(val_ds, batch_size=16)\n",
    "test_loader = DataLoader(test_ds, batch_size=16)"
   ],
   "outputs": [],
   "execution_count": 15
  },
  {
   "cell_type": "code",
   "metadata": {
    "id": "s341BV3mmEJB"
   },
   "source": [
    "from tqdm.auto import tqdm\n",
    "\n",
    "model.eval()\n",
    "all_preds = []\n",
    "all_labels = []\n",
    "\n",
    "with torch.no_grad():\n",
    "    for batch in tqdm(test_loader):\n",
    "        input_ids = batch['input_ids'].to(device)\n",
    "        attention_mask = batch['attention_mask'].to(device)\n",
    "        labels = batch['labels'].to(device)\n",
    "\n",
    "        outputs = model(input_ids=input_ids, attention_mask=attention_mask)\n",
    "        logits = outputs.logits\n",
    "        preds = torch.argmax(logits, dim=-1)\n",
    "\n",
    "        all_preds.extend(preds.cpu().numpy())\n",
    "        all_labels.extend(labels.cpu().numpy())\n"
   ],
   "outputs": [],
   "execution_count": null
  },
  {
   "cell_type": "code",
   "metadata": {
    "colab": {
     "base_uri": "https://localhost:8080/"
    },
    "id": "jbfOcGR5p2gf",
    "outputId": "d9e5add2-e5e6-4aa7-e4bb-a5e81b495574",
    "ExecuteTime": {
     "end_time": "2025-05-16T13:58:49.617068Z",
     "start_time": "2025-05-16T13:58:49.521164Z"
    }
   },
   "source": [
    "from sklearn.metrics import accuracy_score, classification_report, f1_score\n",
    "\n",
    "print(\n",
    "    classification_report(\n",
    "        all_labels,\n",
    "        all_preds,\n",
    "        target_names=unique_labels\n",
    "    )\n",
    ")"
   ],
   "outputs": [
    {
     "name": "stdout",
     "output_type": "stream",
     "text": [
      "                   precision    recall  f1-score   support\n",
      "\n",
      "           Бизнес       0.00      0.00      0.00         4\n",
      "      Бывший СССР       0.87      0.91      0.89      2609\n",
      "              Дом       0.82      0.84      0.83       800\n",
      "         Из жизни       0.80      0.78      0.79      2778\n",
      "   Интернет и СМИ       0.71      0.81      0.75      2530\n",
      "         Культура       0.89      0.88      0.88      2298\n",
      "              Мир       0.89      0.82      0.85      6746\n",
      "  Наука и техника       0.71      0.83      0.77      3090\n",
      "      Путешествия       0.86      0.71      0.78      1291\n",
      "           Россия       0.79      0.78      0.78      6891\n",
      "Силовые структуры       0.62      0.67      0.64      1729\n",
      "            Спорт       0.95      0.98      0.97      3359\n",
      "         Ценности       0.93      0.76      0.84      1405\n",
      "        Экономика       0.86      0.74      0.80      4065\n",
      "\n",
      "         accuracy                           0.81     39595\n",
      "        macro avg       0.76      0.75      0.76     39595\n",
      "     weighted avg       0.83      0.81      0.82     39595\n",
      "\n"
     ]
    }
   ],
   "execution_count": 17
  },
  {
   "metadata": {},
   "cell_type": "code",
   "outputs": [],
   "execution_count": null,
   "source": ""
  }
 ],
 "metadata": {
  "accelerator": "GPU",
  "colab": {
   "gpuType": "A100",
   "machine_shape": "hm",
   "provenance": []
  },
  "kernelspec": {
   "display_name": "Python 3 (ipykernel)",
   "name": "python3",
   "language": "python"
  },
  "language_info": {
   "name": "python"
  }
 },
 "nbformat": 4,
 "nbformat_minor": 0
}
